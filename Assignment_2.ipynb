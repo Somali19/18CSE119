{
  "nbformat": 4,
  "nbformat_minor": 0,
  "metadata": {
    "colab": {
      "name": "Assignment-2-dmdw.ipynb",
      "provenance": [],
      "collapsed_sections": [],
      "authorship_tag": "ABX9TyOqSnALCuKAJqjPgsNrCyd0",
      "include_colab_link": true
    },
    "kernelspec": {
      "name": "python3",
      "display_name": "Python 3"
    }
  },
  "cells": [
    {
      "cell_type": "markdown",
      "metadata": {
        "id": "view-in-github",
        "colab_type": "text"
      },
      "source": [
        "<a href=\"https://colab.research.google.com/github/Somali19/18CSE119/blob/main/Assignment_2.ipynb\" target=\"_parent\"><img src=\"https://colab.research.google.com/assets/colab-badge.svg\" alt=\"Open In Colab\"/></a>"
      ]
    },
    {
      "cell_type": "markdown",
      "metadata": {
        "id": "Iq0mND1dkzqL"
      },
      "source": [
        "**ASSIGNMENT - 2**\n",
        "\n",
        "**NAME : SOMALI PATTJOSHI**\n",
        "\n",
        "**ROLL NUMBER : 18CSE119**\n",
        "\n",
        "**SECTION : B**\n",
        "\n",
        "**SUBJECT : DMDW LAB**"
      ]
    },
    {
      "cell_type": "markdown",
      "metadata": {
        "id": "mULFxLwtlQVT"
      },
      "source": [
        "-> Download a dataset from kaggle and upload it in jupyter\n",
        "notebook or google colab. Perform any random operation on\n",
        "the dataset."
      ]
    },
    {
      "cell_type": "markdown",
      "metadata": {
        "id": "eZO2TqVd1XNE"
      },
      "source": [
        "Pandas"
      ]
    },
    {
      "cell_type": "code",
      "metadata": {
        "id": "mGIDJEQjvd1x"
      },
      "source": [
        "import pandas as pd\n"
      ],
      "execution_count": 1,
      "outputs": []
    },
    {
      "cell_type": "code",
      "metadata": {
        "id": "VItbsxyDv-xO",
        "outputId": "b63b759c-f5b4-4c59-c186-734fbb5efd59",
        "colab": {
          "resources": {
            "http://localhost:8080/nbextensions/google.colab/files.js": {
              "data": "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",
              "ok": true,
              "headers": [
                [
                  "content-type",
                  "application/javascript"
                ]
              ],
              "status": 200,
              "status_text": ""
            }
          },
          "base_uri": "https://localhost:8080/",
          "height": 72
        }
      },
      "source": [
        "from google.colab import files\n",
        "uploaded = files.upload()"
      ],
      "execution_count": 2,
      "outputs": [
        {
          "output_type": "display_data",
          "data": {
            "text/html": [
              "\n",
              "     <input type=\"file\" id=\"files-1f3dcde0-db3b-4e60-a057-b34d19def8c7\" name=\"files[]\" multiple disabled\n",
              "        style=\"border:none\" />\n",
              "     <output id=\"result-1f3dcde0-db3b-4e60-a057-b34d19def8c7\">\n",
              "      Upload widget is only available when the cell has been executed in the\n",
              "      current browser session. Please rerun this cell to enable.\n",
              "      </output>\n",
              "      <script src=\"/nbextensions/google.colab/files.js\"></script> "
            ],
            "text/plain": [
              "<IPython.core.display.HTML object>"
            ]
          },
          "metadata": {
            "tags": []
          }
        },
        {
          "output_type": "stream",
          "text": [
            "Saving dataset.csv to dataset (2).csv\n"
          ],
          "name": "stdout"
        }
      ]
    },
    {
      "cell_type": "code",
      "metadata": {
        "id": "SRbKBcp7wBX6",
        "outputId": "7ee0c55b-81f7-4ee5-d27d-846080d22647",
        "colab": {
          "base_uri": "https://localhost:8080/",
          "height": 419
        }
      },
      "source": [
        "import io\n",
        "df = pd.read_csv(io.BytesIO(uploaded['dataset.csv']))  #read the csv file\n",
        "df"
      ],
      "execution_count": 3,
      "outputs": [
        {
          "output_type": "execute_result",
          "data": {
            "text/html": [
              "<div>\n",
              "<style scoped>\n",
              "    .dataframe tbody tr th:only-of-type {\n",
              "        vertical-align: middle;\n",
              "    }\n",
              "\n",
              "    .dataframe tbody tr th {\n",
              "        vertical-align: top;\n",
              "    }\n",
              "\n",
              "    .dataframe thead th {\n",
              "        text-align: right;\n",
              "    }\n",
              "</style>\n",
              "<table border=\"1\" class=\"dataframe\">\n",
              "  <thead>\n",
              "    <tr style=\"text-align: right;\">\n",
              "      <th></th>\n",
              "      <th>Overall rank</th>\n",
              "      <th>Country or region</th>\n",
              "      <th>Score</th>\n",
              "      <th>GDP per capita</th>\n",
              "      <th>Social support</th>\n",
              "      <th>Healthy life expectancy</th>\n",
              "      <th>Freedom to make life choices</th>\n",
              "      <th>Generosity</th>\n",
              "      <th>Perceptions of corruption</th>\n",
              "    </tr>\n",
              "  </thead>\n",
              "  <tbody>\n",
              "    <tr>\n",
              "      <th>0</th>\n",
              "      <td>1</td>\n",
              "      <td>Finland</td>\n",
              "      <td>7.769</td>\n",
              "      <td>1.340</td>\n",
              "      <td>1.587</td>\n",
              "      <td>0.986</td>\n",
              "      <td>0.596</td>\n",
              "      <td>0.153</td>\n",
              "      <td>0.393</td>\n",
              "    </tr>\n",
              "    <tr>\n",
              "      <th>1</th>\n",
              "      <td>2</td>\n",
              "      <td>Denmark</td>\n",
              "      <td>7.600</td>\n",
              "      <td>1.383</td>\n",
              "      <td>1.573</td>\n",
              "      <td>0.996</td>\n",
              "      <td>0.592</td>\n",
              "      <td>0.252</td>\n",
              "      <td>0.410</td>\n",
              "    </tr>\n",
              "    <tr>\n",
              "      <th>2</th>\n",
              "      <td>3</td>\n",
              "      <td>Norway</td>\n",
              "      <td>7.554</td>\n",
              "      <td>1.488</td>\n",
              "      <td>1.582</td>\n",
              "      <td>1.028</td>\n",
              "      <td>0.603</td>\n",
              "      <td>0.271</td>\n",
              "      <td>0.341</td>\n",
              "    </tr>\n",
              "    <tr>\n",
              "      <th>3</th>\n",
              "      <td>4</td>\n",
              "      <td>Iceland</td>\n",
              "      <td>7.494</td>\n",
              "      <td>1.380</td>\n",
              "      <td>1.624</td>\n",
              "      <td>1.026</td>\n",
              "      <td>0.591</td>\n",
              "      <td>0.354</td>\n",
              "      <td>0.118</td>\n",
              "    </tr>\n",
              "    <tr>\n",
              "      <th>4</th>\n",
              "      <td>5</td>\n",
              "      <td>Netherlands</td>\n",
              "      <td>7.488</td>\n",
              "      <td>1.396</td>\n",
              "      <td>1.522</td>\n",
              "      <td>0.999</td>\n",
              "      <td>0.557</td>\n",
              "      <td>0.322</td>\n",
              "      <td>0.298</td>\n",
              "    </tr>\n",
              "    <tr>\n",
              "      <th>...</th>\n",
              "      <td>...</td>\n",
              "      <td>...</td>\n",
              "      <td>...</td>\n",
              "      <td>...</td>\n",
              "      <td>...</td>\n",
              "      <td>...</td>\n",
              "      <td>...</td>\n",
              "      <td>...</td>\n",
              "      <td>...</td>\n",
              "    </tr>\n",
              "    <tr>\n",
              "      <th>151</th>\n",
              "      <td>152</td>\n",
              "      <td>Rwanda</td>\n",
              "      <td>3.334</td>\n",
              "      <td>0.359</td>\n",
              "      <td>0.711</td>\n",
              "      <td>0.614</td>\n",
              "      <td>0.555</td>\n",
              "      <td>0.217</td>\n",
              "      <td>0.411</td>\n",
              "    </tr>\n",
              "    <tr>\n",
              "      <th>152</th>\n",
              "      <td>153</td>\n",
              "      <td>Tanzania</td>\n",
              "      <td>3.231</td>\n",
              "      <td>0.476</td>\n",
              "      <td>0.885</td>\n",
              "      <td>0.499</td>\n",
              "      <td>0.417</td>\n",
              "      <td>0.276</td>\n",
              "      <td>0.147</td>\n",
              "    </tr>\n",
              "    <tr>\n",
              "      <th>153</th>\n",
              "      <td>154</td>\n",
              "      <td>Afghanistan</td>\n",
              "      <td>3.203</td>\n",
              "      <td>0.350</td>\n",
              "      <td>0.517</td>\n",
              "      <td>0.361</td>\n",
              "      <td>0.000</td>\n",
              "      <td>0.158</td>\n",
              "      <td>0.025</td>\n",
              "    </tr>\n",
              "    <tr>\n",
              "      <th>154</th>\n",
              "      <td>155</td>\n",
              "      <td>Central African Republic</td>\n",
              "      <td>3.083</td>\n",
              "      <td>0.026</td>\n",
              "      <td>0.000</td>\n",
              "      <td>0.105</td>\n",
              "      <td>0.225</td>\n",
              "      <td>0.235</td>\n",
              "      <td>0.035</td>\n",
              "    </tr>\n",
              "    <tr>\n",
              "      <th>155</th>\n",
              "      <td>156</td>\n",
              "      <td>South Sudan</td>\n",
              "      <td>2.853</td>\n",
              "      <td>0.306</td>\n",
              "      <td>0.575</td>\n",
              "      <td>0.295</td>\n",
              "      <td>0.010</td>\n",
              "      <td>0.202</td>\n",
              "      <td>0.091</td>\n",
              "    </tr>\n",
              "  </tbody>\n",
              "</table>\n",
              "<p>156 rows × 9 columns</p>\n",
              "</div>"
            ],
            "text/plain": [
              "     Overall rank  ... Perceptions of corruption\n",
              "0               1  ...                     0.393\n",
              "1               2  ...                     0.410\n",
              "2               3  ...                     0.341\n",
              "3               4  ...                     0.118\n",
              "4               5  ...                     0.298\n",
              "..            ...  ...                       ...\n",
              "151           152  ...                     0.411\n",
              "152           153  ...                     0.147\n",
              "153           154  ...                     0.025\n",
              "154           155  ...                     0.035\n",
              "155           156  ...                     0.091\n",
              "\n",
              "[156 rows x 9 columns]"
            ]
          },
          "metadata": {
            "tags": []
          },
          "execution_count": 3
        }
      ]
    },
    {
      "cell_type": "code",
      "metadata": {
        "id": "6WXX9uiEYQxj",
        "outputId": "fb66b8fb-7d27-4671-ca24-1cc321858db8",
        "colab": {
          "base_uri": "https://localhost:8080/"
        }
      },
      "source": [
        "df.index  "
      ],
      "execution_count": 4,
      "outputs": [
        {
          "output_type": "execute_result",
          "data": {
            "text/plain": [
              "RangeIndex(start=0, stop=156, step=1)"
            ]
          },
          "metadata": {
            "tags": []
          },
          "execution_count": 4
        }
      ]
    },
    {
      "cell_type": "code",
      "metadata": {
        "id": "YjBw-5Q0xCQm",
        "outputId": "c744cd40-9d84-4c47-a87c-c4add532fe62",
        "colab": {
          "base_uri": "https://localhost:8080/",
          "height": 204
        }
      },
      "source": [
        "df.head() #first five rows of dataframe"
      ],
      "execution_count": 5,
      "outputs": [
        {
          "output_type": "execute_result",
          "data": {
            "text/html": [
              "<div>\n",
              "<style scoped>\n",
              "    .dataframe tbody tr th:only-of-type {\n",
              "        vertical-align: middle;\n",
              "    }\n",
              "\n",
              "    .dataframe tbody tr th {\n",
              "        vertical-align: top;\n",
              "    }\n",
              "\n",
              "    .dataframe thead th {\n",
              "        text-align: right;\n",
              "    }\n",
              "</style>\n",
              "<table border=\"1\" class=\"dataframe\">\n",
              "  <thead>\n",
              "    <tr style=\"text-align: right;\">\n",
              "      <th></th>\n",
              "      <th>Overall rank</th>\n",
              "      <th>Country or region</th>\n",
              "      <th>Score</th>\n",
              "      <th>GDP per capita</th>\n",
              "      <th>Social support</th>\n",
              "      <th>Healthy life expectancy</th>\n",
              "      <th>Freedom to make life choices</th>\n",
              "      <th>Generosity</th>\n",
              "      <th>Perceptions of corruption</th>\n",
              "    </tr>\n",
              "  </thead>\n",
              "  <tbody>\n",
              "    <tr>\n",
              "      <th>0</th>\n",
              "      <td>1</td>\n",
              "      <td>Finland</td>\n",
              "      <td>7.769</td>\n",
              "      <td>1.340</td>\n",
              "      <td>1.587</td>\n",
              "      <td>0.986</td>\n",
              "      <td>0.596</td>\n",
              "      <td>0.153</td>\n",
              "      <td>0.393</td>\n",
              "    </tr>\n",
              "    <tr>\n",
              "      <th>1</th>\n",
              "      <td>2</td>\n",
              "      <td>Denmark</td>\n",
              "      <td>7.600</td>\n",
              "      <td>1.383</td>\n",
              "      <td>1.573</td>\n",
              "      <td>0.996</td>\n",
              "      <td>0.592</td>\n",
              "      <td>0.252</td>\n",
              "      <td>0.410</td>\n",
              "    </tr>\n",
              "    <tr>\n",
              "      <th>2</th>\n",
              "      <td>3</td>\n",
              "      <td>Norway</td>\n",
              "      <td>7.554</td>\n",
              "      <td>1.488</td>\n",
              "      <td>1.582</td>\n",
              "      <td>1.028</td>\n",
              "      <td>0.603</td>\n",
              "      <td>0.271</td>\n",
              "      <td>0.341</td>\n",
              "    </tr>\n",
              "    <tr>\n",
              "      <th>3</th>\n",
              "      <td>4</td>\n",
              "      <td>Iceland</td>\n",
              "      <td>7.494</td>\n",
              "      <td>1.380</td>\n",
              "      <td>1.624</td>\n",
              "      <td>1.026</td>\n",
              "      <td>0.591</td>\n",
              "      <td>0.354</td>\n",
              "      <td>0.118</td>\n",
              "    </tr>\n",
              "    <tr>\n",
              "      <th>4</th>\n",
              "      <td>5</td>\n",
              "      <td>Netherlands</td>\n",
              "      <td>7.488</td>\n",
              "      <td>1.396</td>\n",
              "      <td>1.522</td>\n",
              "      <td>0.999</td>\n",
              "      <td>0.557</td>\n",
              "      <td>0.322</td>\n",
              "      <td>0.298</td>\n",
              "    </tr>\n",
              "  </tbody>\n",
              "</table>\n",
              "</div>"
            ],
            "text/plain": [
              "   Overall rank Country or region  ...  Generosity  Perceptions of corruption\n",
              "0             1           Finland  ...       0.153                      0.393\n",
              "1             2           Denmark  ...       0.252                      0.410\n",
              "2             3            Norway  ...       0.271                      0.341\n",
              "3             4           Iceland  ...       0.354                      0.118\n",
              "4             5       Netherlands  ...       0.322                      0.298\n",
              "\n",
              "[5 rows x 9 columns]"
            ]
          },
          "metadata": {
            "tags": []
          },
          "execution_count": 5
        }
      ]
    },
    {
      "cell_type": "code",
      "metadata": {
        "id": "kg5RAv9KxHSf",
        "outputId": "d6f126b4-5330-42eb-cd07-9b5acbb90f46",
        "colab": {
          "base_uri": "https://localhost:8080/",
          "height": 204
        }
      },
      "source": [
        "df.tail() #last five row of dataframe"
      ],
      "execution_count": 6,
      "outputs": [
        {
          "output_type": "execute_result",
          "data": {
            "text/html": [
              "<div>\n",
              "<style scoped>\n",
              "    .dataframe tbody tr th:only-of-type {\n",
              "        vertical-align: middle;\n",
              "    }\n",
              "\n",
              "    .dataframe tbody tr th {\n",
              "        vertical-align: top;\n",
              "    }\n",
              "\n",
              "    .dataframe thead th {\n",
              "        text-align: right;\n",
              "    }\n",
              "</style>\n",
              "<table border=\"1\" class=\"dataframe\">\n",
              "  <thead>\n",
              "    <tr style=\"text-align: right;\">\n",
              "      <th></th>\n",
              "      <th>Overall rank</th>\n",
              "      <th>Country or region</th>\n",
              "      <th>Score</th>\n",
              "      <th>GDP per capita</th>\n",
              "      <th>Social support</th>\n",
              "      <th>Healthy life expectancy</th>\n",
              "      <th>Freedom to make life choices</th>\n",
              "      <th>Generosity</th>\n",
              "      <th>Perceptions of corruption</th>\n",
              "    </tr>\n",
              "  </thead>\n",
              "  <tbody>\n",
              "    <tr>\n",
              "      <th>151</th>\n",
              "      <td>152</td>\n",
              "      <td>Rwanda</td>\n",
              "      <td>3.334</td>\n",
              "      <td>0.359</td>\n",
              "      <td>0.711</td>\n",
              "      <td>0.614</td>\n",
              "      <td>0.555</td>\n",
              "      <td>0.217</td>\n",
              "      <td>0.411</td>\n",
              "    </tr>\n",
              "    <tr>\n",
              "      <th>152</th>\n",
              "      <td>153</td>\n",
              "      <td>Tanzania</td>\n",
              "      <td>3.231</td>\n",
              "      <td>0.476</td>\n",
              "      <td>0.885</td>\n",
              "      <td>0.499</td>\n",
              "      <td>0.417</td>\n",
              "      <td>0.276</td>\n",
              "      <td>0.147</td>\n",
              "    </tr>\n",
              "    <tr>\n",
              "      <th>153</th>\n",
              "      <td>154</td>\n",
              "      <td>Afghanistan</td>\n",
              "      <td>3.203</td>\n",
              "      <td>0.350</td>\n",
              "      <td>0.517</td>\n",
              "      <td>0.361</td>\n",
              "      <td>0.000</td>\n",
              "      <td>0.158</td>\n",
              "      <td>0.025</td>\n",
              "    </tr>\n",
              "    <tr>\n",
              "      <th>154</th>\n",
              "      <td>155</td>\n",
              "      <td>Central African Republic</td>\n",
              "      <td>3.083</td>\n",
              "      <td>0.026</td>\n",
              "      <td>0.000</td>\n",
              "      <td>0.105</td>\n",
              "      <td>0.225</td>\n",
              "      <td>0.235</td>\n",
              "      <td>0.035</td>\n",
              "    </tr>\n",
              "    <tr>\n",
              "      <th>155</th>\n",
              "      <td>156</td>\n",
              "      <td>South Sudan</td>\n",
              "      <td>2.853</td>\n",
              "      <td>0.306</td>\n",
              "      <td>0.575</td>\n",
              "      <td>0.295</td>\n",
              "      <td>0.010</td>\n",
              "      <td>0.202</td>\n",
              "      <td>0.091</td>\n",
              "    </tr>\n",
              "  </tbody>\n",
              "</table>\n",
              "</div>"
            ],
            "text/plain": [
              "     Overall rank  ... Perceptions of corruption\n",
              "151           152  ...                     0.411\n",
              "152           153  ...                     0.147\n",
              "153           154  ...                     0.025\n",
              "154           155  ...                     0.035\n",
              "155           156  ...                     0.091\n",
              "\n",
              "[5 rows x 9 columns]"
            ]
          },
          "metadata": {
            "tags": []
          },
          "execution_count": 6
        }
      ]
    },
    {
      "cell_type": "code",
      "metadata": {
        "id": "PxayeJrgZM2v",
        "outputId": "94d94c64-7d01-4d22-c7b3-da8a1932fa43",
        "colab": {
          "base_uri": "https://localhost:8080/"
        }
      },
      "source": [
        "df.columns #list of all the column of the dataframe"
      ],
      "execution_count": 7,
      "outputs": [
        {
          "output_type": "execute_result",
          "data": {
            "text/plain": [
              "Index(['Overall rank', 'Country or region', 'Score', 'GDP per capita',\n",
              "       'Social support', 'Healthy life expectancy',\n",
              "       'Freedom to make life choices', 'Generosity',\n",
              "       'Perceptions of corruption'],\n",
              "      dtype='object')"
            ]
          },
          "metadata": {
            "tags": []
          },
          "execution_count": 7
        }
      ]
    },
    {
      "cell_type": "code",
      "metadata": {
        "id": "pa7tKApDZfxM",
        "outputId": "bdf1d9dc-1e0d-4004-a4a0-d87ed8199cd4",
        "colab": {
          "base_uri": "https://localhost:8080/"
        }
      },
      "source": [
        "df.dtypes  #datatype of all column of the dataframe"
      ],
      "execution_count": 8,
      "outputs": [
        {
          "output_type": "execute_result",
          "data": {
            "text/plain": [
              "Overall rank                      int64\n",
              "Country or region                object\n",
              "Score                           float64\n",
              "GDP per capita                  float64\n",
              "Social support                  float64\n",
              "Healthy life expectancy         float64\n",
              "Freedom to make life choices    float64\n",
              "Generosity                      float64\n",
              "Perceptions of corruption       float64\n",
              "dtype: object"
            ]
          },
          "metadata": {
            "tags": []
          },
          "execution_count": 8
        }
      ]
    },
    {
      "cell_type": "code",
      "metadata": {
        "id": "P_Zg_JM0ZgOi",
        "outputId": "f3291e85-78ac-40be-cfde-cee9fbdb6ab8",
        "colab": {
          "base_uri": "https://localhost:8080/"
        }
      },
      "source": [
        "df.values  #Return a Numpy representation of the DataFrame"
      ],
      "execution_count": 9,
      "outputs": [
        {
          "output_type": "execute_result",
          "data": {
            "text/plain": [
              "array([[1, 'Finland', 7.769, ..., 0.596, 0.153, 0.39299999999999996],\n",
              "       [2, 'Denmark', 7.6, ..., 0.5920000000000001, 0.252, 0.41],\n",
              "       [3, 'Norway', 7.553999999999999, ..., 0.603, 0.271, 0.341],\n",
              "       ...,\n",
              "       [154, 'Afghanistan', 3.2030000000000003, ..., 0.0, 0.158, 0.025],\n",
              "       [155, 'Central African Republic', 3.083, ..., 0.225, 0.235, 0.035],\n",
              "       [156, 'South Sudan', 2.853, ..., 0.01, 0.20199999999999999, 0.091]],\n",
              "      dtype=object)"
            ]
          },
          "metadata": {
            "tags": []
          },
          "execution_count": 9
        }
      ]
    },
    {
      "cell_type": "code",
      "metadata": {
        "id": "AeGeebc1xWjt",
        "outputId": "9179e9d2-1d44-4eca-9a1f-643e46766b12",
        "colab": {
          "base_uri": "https://localhost:8080/"
        }
      },
      "source": [
        "# provide summery of the dataframe\n",
        "df.info()"
      ],
      "execution_count": 10,
      "outputs": [
        {
          "output_type": "stream",
          "text": [
            "<class 'pandas.core.frame.DataFrame'>\n",
            "RangeIndex: 156 entries, 0 to 155\n",
            "Data columns (total 9 columns):\n",
            " #   Column                        Non-Null Count  Dtype  \n",
            "---  ------                        --------------  -----  \n",
            " 0   Overall rank                  156 non-null    int64  \n",
            " 1   Country or region             156 non-null    object \n",
            " 2   Score                         156 non-null    float64\n",
            " 3   GDP per capita                156 non-null    float64\n",
            " 4   Social support                156 non-null    float64\n",
            " 5   Healthy life expectancy       156 non-null    float64\n",
            " 6   Freedom to make life choices  156 non-null    float64\n",
            " 7   Generosity                    156 non-null    float64\n",
            " 8   Perceptions of corruption     156 non-null    float64\n",
            "dtypes: float64(7), int64(1), object(1)\n",
            "memory usage: 11.1+ KB\n"
          ],
          "name": "stdout"
        }
      ]
    },
    {
      "cell_type": "code",
      "metadata": {
        "id": "mvfgaFE6Z6Km",
        "outputId": "0ecd116a-bd51-4f1d-a2c3-87943b4808d0",
        "colab": {
          "base_uri": "https://localhost:8080/"
        }
      },
      "source": [
        "df.axes #Return a list representing the axes of the DataFrame."
      ],
      "execution_count": 11,
      "outputs": [
        {
          "output_type": "execute_result",
          "data": {
            "text/plain": [
              "[RangeIndex(start=0, stop=156, step=1),\n",
              " Index(['Overall rank', 'Country or region', 'Score', 'GDP per capita',\n",
              "        'Social support', 'Healthy life expectancy',\n",
              "        'Freedom to make life choices', 'Generosity',\n",
              "        'Perceptions of corruption'],\n",
              "       dtype='object')]"
            ]
          },
          "metadata": {
            "tags": []
          },
          "execution_count": 11
        }
      ]
    },
    {
      "cell_type": "code",
      "metadata": {
        "id": "0XApTCugaDqm",
        "outputId": "e25a0963-bb65-44cc-d9e6-be6781492a75",
        "colab": {
          "base_uri": "https://localhost:8080/"
        }
      },
      "source": [
        "df.ndim #Return an int representing the number of axes / array dimensions."
      ],
      "execution_count": 12,
      "outputs": [
        {
          "output_type": "execute_result",
          "data": {
            "text/plain": [
              "2"
            ]
          },
          "metadata": {
            "tags": []
          },
          "execution_count": 12
        }
      ]
    },
    {
      "cell_type": "code",
      "metadata": {
        "id": "Drpgu20MaKCM",
        "outputId": "3359ebc1-f71d-4559-b55e-2aa38a3d59f3",
        "colab": {
          "base_uri": "https://localhost:8080/"
        }
      },
      "source": [
        "df.size #Return an int representing the number of elements in this object."
      ],
      "execution_count": 13,
      "outputs": [
        {
          "output_type": "execute_result",
          "data": {
            "text/plain": [
              "1404"
            ]
          },
          "metadata": {
            "tags": []
          },
          "execution_count": 13
        }
      ]
    },
    {
      "cell_type": "code",
      "metadata": {
        "id": "3m_uGl7qaR1v",
        "outputId": "251c7dab-5017-431c-a8a4-f8a15c0d6044",
        "colab": {
          "base_uri": "https://localhost:8080/"
        }
      },
      "source": [
        "df.memory_usage()  #Return the memory usage of each column in bytes."
      ],
      "execution_count": 14,
      "outputs": [
        {
          "output_type": "execute_result",
          "data": {
            "text/plain": [
              "Index                            128\n",
              "Overall rank                    1248\n",
              "Country or region               1248\n",
              "Score                           1248\n",
              "GDP per capita                  1248\n",
              "Social support                  1248\n",
              "Healthy life expectancy         1248\n",
              "Freedom to make life choices    1248\n",
              "Generosity                      1248\n",
              "Perceptions of corruption       1248\n",
              "dtype: int64"
            ]
          },
          "metadata": {
            "tags": []
          },
          "execution_count": 14
        }
      ]
    },
    {
      "cell_type": "code",
      "metadata": {
        "id": "iuWDXkz2apQK",
        "outputId": "8c8ddafd-2fbc-415d-bd9b-4a341d5184da",
        "colab": {
          "base_uri": "https://localhost:8080/"
        }
      },
      "source": [
        "df.empty  #Indicator whether DataFrame is empty."
      ],
      "execution_count": 15,
      "outputs": [
        {
          "output_type": "execute_result",
          "data": {
            "text/plain": [
              "False"
            ]
          },
          "metadata": {
            "tags": []
          },
          "execution_count": 15
        }
      ]
    },
    {
      "cell_type": "code",
      "metadata": {
        "id": "v9WM78KmavwD",
        "outputId": "6a8c93d3-46d8-4609-8dca-db8679f63f2c",
        "colab": {
          "base_uri": "https://localhost:8080/",
          "height": 390
        }
      },
      "source": [
        "df.loc[:10,[ 'Country or region'] ]  #Access a group of rows and columns by labels"
      ],
      "execution_count": 16,
      "outputs": [
        {
          "output_type": "execute_result",
          "data": {
            "text/html": [
              "<div>\n",
              "<style scoped>\n",
              "    .dataframe tbody tr th:only-of-type {\n",
              "        vertical-align: middle;\n",
              "    }\n",
              "\n",
              "    .dataframe tbody tr th {\n",
              "        vertical-align: top;\n",
              "    }\n",
              "\n",
              "    .dataframe thead th {\n",
              "        text-align: right;\n",
              "    }\n",
              "</style>\n",
              "<table border=\"1\" class=\"dataframe\">\n",
              "  <thead>\n",
              "    <tr style=\"text-align: right;\">\n",
              "      <th></th>\n",
              "      <th>Country or region</th>\n",
              "    </tr>\n",
              "  </thead>\n",
              "  <tbody>\n",
              "    <tr>\n",
              "      <th>0</th>\n",
              "      <td>Finland</td>\n",
              "    </tr>\n",
              "    <tr>\n",
              "      <th>1</th>\n",
              "      <td>Denmark</td>\n",
              "    </tr>\n",
              "    <tr>\n",
              "      <th>2</th>\n",
              "      <td>Norway</td>\n",
              "    </tr>\n",
              "    <tr>\n",
              "      <th>3</th>\n",
              "      <td>Iceland</td>\n",
              "    </tr>\n",
              "    <tr>\n",
              "      <th>4</th>\n",
              "      <td>Netherlands</td>\n",
              "    </tr>\n",
              "    <tr>\n",
              "      <th>5</th>\n",
              "      <td>Switzerland</td>\n",
              "    </tr>\n",
              "    <tr>\n",
              "      <th>6</th>\n",
              "      <td>Sweden</td>\n",
              "    </tr>\n",
              "    <tr>\n",
              "      <th>7</th>\n",
              "      <td>New Zealand</td>\n",
              "    </tr>\n",
              "    <tr>\n",
              "      <th>8</th>\n",
              "      <td>Canada</td>\n",
              "    </tr>\n",
              "    <tr>\n",
              "      <th>9</th>\n",
              "      <td>Austria</td>\n",
              "    </tr>\n",
              "    <tr>\n",
              "      <th>10</th>\n",
              "      <td>Australia</td>\n",
              "    </tr>\n",
              "  </tbody>\n",
              "</table>\n",
              "</div>"
            ],
            "text/plain": [
              "   Country or region\n",
              "0            Finland\n",
              "1            Denmark\n",
              "2             Norway\n",
              "3            Iceland\n",
              "4        Netherlands\n",
              "5        Switzerland\n",
              "6             Sweden\n",
              "7        New Zealand\n",
              "8             Canada\n",
              "9            Austria\n",
              "10         Australia"
            ]
          },
          "metadata": {
            "tags": []
          },
          "execution_count": 16
        }
      ]
    },
    {
      "cell_type": "code",
      "metadata": {
        "id": "pahauRY1yUgK",
        "outputId": "81f4d75e-47a6-45a1-fba4-fccf83322c4d",
        "colab": {
          "base_uri": "https://localhost:8080/",
          "height": 297
        }
      },
      "source": [
        "# corr method is used to see if any columns correlate\n",
        "df.corr()"
      ],
      "execution_count": 17,
      "outputs": [
        {
          "output_type": "execute_result",
          "data": {
            "text/html": [
              "<div>\n",
              "<style scoped>\n",
              "    .dataframe tbody tr th:only-of-type {\n",
              "        vertical-align: middle;\n",
              "    }\n",
              "\n",
              "    .dataframe tbody tr th {\n",
              "        vertical-align: top;\n",
              "    }\n",
              "\n",
              "    .dataframe thead th {\n",
              "        text-align: right;\n",
              "    }\n",
              "</style>\n",
              "<table border=\"1\" class=\"dataframe\">\n",
              "  <thead>\n",
              "    <tr style=\"text-align: right;\">\n",
              "      <th></th>\n",
              "      <th>Overall rank</th>\n",
              "      <th>Score</th>\n",
              "      <th>GDP per capita</th>\n",
              "      <th>Social support</th>\n",
              "      <th>Healthy life expectancy</th>\n",
              "      <th>Freedom to make life choices</th>\n",
              "      <th>Generosity</th>\n",
              "      <th>Perceptions of corruption</th>\n",
              "    </tr>\n",
              "  </thead>\n",
              "  <tbody>\n",
              "    <tr>\n",
              "      <th>Overall rank</th>\n",
              "      <td>1.000000</td>\n",
              "      <td>-0.989096</td>\n",
              "      <td>-0.801947</td>\n",
              "      <td>-0.767465</td>\n",
              "      <td>-0.787411</td>\n",
              "      <td>-0.546606</td>\n",
              "      <td>-0.047993</td>\n",
              "      <td>-0.351959</td>\n",
              "    </tr>\n",
              "    <tr>\n",
              "      <th>Score</th>\n",
              "      <td>-0.989096</td>\n",
              "      <td>1.000000</td>\n",
              "      <td>0.793883</td>\n",
              "      <td>0.777058</td>\n",
              "      <td>0.779883</td>\n",
              "      <td>0.566742</td>\n",
              "      <td>0.075824</td>\n",
              "      <td>0.385613</td>\n",
              "    </tr>\n",
              "    <tr>\n",
              "      <th>GDP per capita</th>\n",
              "      <td>-0.801947</td>\n",
              "      <td>0.793883</td>\n",
              "      <td>1.000000</td>\n",
              "      <td>0.754906</td>\n",
              "      <td>0.835462</td>\n",
              "      <td>0.379079</td>\n",
              "      <td>-0.079662</td>\n",
              "      <td>0.298920</td>\n",
              "    </tr>\n",
              "    <tr>\n",
              "      <th>Social support</th>\n",
              "      <td>-0.767465</td>\n",
              "      <td>0.777058</td>\n",
              "      <td>0.754906</td>\n",
              "      <td>1.000000</td>\n",
              "      <td>0.719009</td>\n",
              "      <td>0.447333</td>\n",
              "      <td>-0.048126</td>\n",
              "      <td>0.181899</td>\n",
              "    </tr>\n",
              "    <tr>\n",
              "      <th>Healthy life expectancy</th>\n",
              "      <td>-0.787411</td>\n",
              "      <td>0.779883</td>\n",
              "      <td>0.835462</td>\n",
              "      <td>0.719009</td>\n",
              "      <td>1.000000</td>\n",
              "      <td>0.390395</td>\n",
              "      <td>-0.029511</td>\n",
              "      <td>0.295283</td>\n",
              "    </tr>\n",
              "    <tr>\n",
              "      <th>Freedom to make life choices</th>\n",
              "      <td>-0.546606</td>\n",
              "      <td>0.566742</td>\n",
              "      <td>0.379079</td>\n",
              "      <td>0.447333</td>\n",
              "      <td>0.390395</td>\n",
              "      <td>1.000000</td>\n",
              "      <td>0.269742</td>\n",
              "      <td>0.438843</td>\n",
              "    </tr>\n",
              "    <tr>\n",
              "      <th>Generosity</th>\n",
              "      <td>-0.047993</td>\n",
              "      <td>0.075824</td>\n",
              "      <td>-0.079662</td>\n",
              "      <td>-0.048126</td>\n",
              "      <td>-0.029511</td>\n",
              "      <td>0.269742</td>\n",
              "      <td>1.000000</td>\n",
              "      <td>0.326538</td>\n",
              "    </tr>\n",
              "    <tr>\n",
              "      <th>Perceptions of corruption</th>\n",
              "      <td>-0.351959</td>\n",
              "      <td>0.385613</td>\n",
              "      <td>0.298920</td>\n",
              "      <td>0.181899</td>\n",
              "      <td>0.295283</td>\n",
              "      <td>0.438843</td>\n",
              "      <td>0.326538</td>\n",
              "      <td>1.000000</td>\n",
              "    </tr>\n",
              "  </tbody>\n",
              "</table>\n",
              "</div>"
            ],
            "text/plain": [
              "                              Overall rank  ...  Perceptions of corruption\n",
              "Overall rank                      1.000000  ...                  -0.351959\n",
              "Score                            -0.989096  ...                   0.385613\n",
              "GDP per capita                   -0.801947  ...                   0.298920\n",
              "Social support                   -0.767465  ...                   0.181899\n",
              "Healthy life expectancy          -0.787411  ...                   0.295283\n",
              "Freedom to make life choices     -0.546606  ...                   0.438843\n",
              "Generosity                       -0.047993  ...                   0.326538\n",
              "Perceptions of corruption        -0.351959  ...                   1.000000\n",
              "\n",
              "[8 rows x 8 columns]"
            ]
          },
          "metadata": {
            "tags": []
          },
          "execution_count": 17
        }
      ]
    },
    {
      "cell_type": "code",
      "metadata": {
        "id": "ASIgk5jyyYBI",
        "outputId": "47c87b50-6a4f-43c4-f6c8-19b90e25d0e0",
        "colab": {
          "base_uri": "https://localhost:8080/"
        }
      },
      "source": [
        "df.shape #number of rows and column in the dataset"
      ],
      "execution_count": 18,
      "outputs": [
        {
          "output_type": "execute_result",
          "data": {
            "text/plain": [
              "(156, 9)"
            ]
          },
          "metadata": {
            "tags": []
          },
          "execution_count": 18
        }
      ]
    },
    {
      "cell_type": "code",
      "metadata": {
        "id": "tdnMIZyjyZ_5",
        "outputId": "2e84938d-b066-423a-b5f7-ede5579f8cf0",
        "colab": {
          "base_uri": "https://localhost:8080/"
        }
      },
      "source": [
        "df[\"Score\"].value_counts() #count the number of values Score column have"
      ],
      "execution_count": 19,
      "outputs": [
        {
          "output_type": "execute_result",
          "data": {
            "text/plain": [
              "5.208    2\n",
              "5.467    1\n",
              "7.139    1\n",
              "4.944    1\n",
              "4.350    1\n",
              "        ..\n",
              "6.028    1\n",
              "5.274    1\n",
              "6.825    1\n",
              "6.300    1\n",
              "6.375    1\n",
              "Name: Score, Length: 155, dtype: int64"
            ]
          },
          "metadata": {
            "tags": []
          },
          "execution_count": 19
        }
      ]
    },
    {
      "cell_type": "code",
      "metadata": {
        "id": "ESvnHPU70cjH",
        "outputId": "e3c18d7f-3bc1-40aa-bb7e-68381d105f92",
        "colab": {
          "base_uri": "https://localhost:8080/"
        }
      },
      "source": [
        "type(df) #type of dataset"
      ],
      "execution_count": 20,
      "outputs": [
        {
          "output_type": "execute_result",
          "data": {
            "text/plain": [
              "pandas.core.frame.DataFrame"
            ]
          },
          "metadata": {
            "tags": []
          },
          "execution_count": 20
        }
      ]
    },
    {
      "cell_type": "code",
      "metadata": {
        "id": "AejCwc5V0gsC",
        "outputId": "28f29620-6a6f-464b-9780-a226d29ba33a",
        "colab": {
          "base_uri": "https://localhost:8080/"
        }
      },
      "source": [
        "df[\"Social support\"].index"
      ],
      "execution_count": 21,
      "outputs": [
        {
          "output_type": "execute_result",
          "data": {
            "text/plain": [
              "RangeIndex(start=0, stop=156, step=1)"
            ]
          },
          "metadata": {
            "tags": []
          },
          "execution_count": 21
        }
      ]
    },
    {
      "cell_type": "code",
      "metadata": {
        "id": "qSESQGln0piw",
        "outputId": "b4ff3a96-4455-4c1e-f0cf-5d5e9571bf44",
        "colab": {
          "base_uri": "https://localhost:8080/"
        }
      },
      "source": [
        "df.loc[1]"
      ],
      "execution_count": 22,
      "outputs": [
        {
          "output_type": "execute_result",
          "data": {
            "text/plain": [
              "Overall rank                          2\n",
              "Country or region               Denmark\n",
              "Score                               7.6\n",
              "GDP per capita                    1.383\n",
              "Social support                    1.573\n",
              "Healthy life expectancy           0.996\n",
              "Freedom to make life choices      0.592\n",
              "Generosity                        0.252\n",
              "Perceptions of corruption          0.41\n",
              "Name: 1, dtype: object"
            ]
          },
          "metadata": {
            "tags": []
          },
          "execution_count": 22
        }
      ]
    },
    {
      "cell_type": "code",
      "metadata": {
        "id": "Z-XY4jh604ka",
        "outputId": "ab796a25-43f0-47cc-de98-b4750efa8dde",
        "colab": {
          "base_uri": "https://localhost:8080/",
          "height": 111
        }
      },
      "source": [
        "df.iloc[1:3]"
      ],
      "execution_count": 23,
      "outputs": [
        {
          "output_type": "execute_result",
          "data": {
            "text/html": [
              "<div>\n",
              "<style scoped>\n",
              "    .dataframe tbody tr th:only-of-type {\n",
              "        vertical-align: middle;\n",
              "    }\n",
              "\n",
              "    .dataframe tbody tr th {\n",
              "        vertical-align: top;\n",
              "    }\n",
              "\n",
              "    .dataframe thead th {\n",
              "        text-align: right;\n",
              "    }\n",
              "</style>\n",
              "<table border=\"1\" class=\"dataframe\">\n",
              "  <thead>\n",
              "    <tr style=\"text-align: right;\">\n",
              "      <th></th>\n",
              "      <th>Overall rank</th>\n",
              "      <th>Country or region</th>\n",
              "      <th>Score</th>\n",
              "      <th>GDP per capita</th>\n",
              "      <th>Social support</th>\n",
              "      <th>Healthy life expectancy</th>\n",
              "      <th>Freedom to make life choices</th>\n",
              "      <th>Generosity</th>\n",
              "      <th>Perceptions of corruption</th>\n",
              "    </tr>\n",
              "  </thead>\n",
              "  <tbody>\n",
              "    <tr>\n",
              "      <th>1</th>\n",
              "      <td>2</td>\n",
              "      <td>Denmark</td>\n",
              "      <td>7.600</td>\n",
              "      <td>1.383</td>\n",
              "      <td>1.573</td>\n",
              "      <td>0.996</td>\n",
              "      <td>0.592</td>\n",
              "      <td>0.252</td>\n",
              "      <td>0.410</td>\n",
              "    </tr>\n",
              "    <tr>\n",
              "      <th>2</th>\n",
              "      <td>3</td>\n",
              "      <td>Norway</td>\n",
              "      <td>7.554</td>\n",
              "      <td>1.488</td>\n",
              "      <td>1.582</td>\n",
              "      <td>1.028</td>\n",
              "      <td>0.603</td>\n",
              "      <td>0.271</td>\n",
              "      <td>0.341</td>\n",
              "    </tr>\n",
              "  </tbody>\n",
              "</table>\n",
              "</div>"
            ],
            "text/plain": [
              "   Overall rank Country or region  ...  Generosity  Perceptions of corruption\n",
              "1             2           Denmark  ...       0.252                      0.410\n",
              "2             3            Norway  ...       0.271                      0.341\n",
              "\n",
              "[2 rows x 9 columns]"
            ]
          },
          "metadata": {
            "tags": []
          },
          "execution_count": 23
        }
      ]
    },
    {
      "cell_type": "code",
      "metadata": {
        "id": "rZSTWcAc0_4H",
        "outputId": "ca1608ce-20f7-4fef-bccf-aab1a41ef6b1",
        "colab": {
          "base_uri": "https://localhost:8080/"
        }
      },
      "source": [
        "df1 = df.copy() #copy dataframe\n",
        "df1.shape"
      ],
      "execution_count": 24,
      "outputs": [
        {
          "output_type": "execute_result",
          "data": {
            "text/plain": [
              "(156, 9)"
            ]
          },
          "metadata": {
            "tags": []
          },
          "execution_count": 24
        }
      ]
    },
    {
      "cell_type": "code",
      "metadata": {
        "id": "oDdz9gqz1NPA",
        "outputId": "5fb0feae-a137-44b3-b1a6-a17615f5b763",
        "colab": {
          "base_uri": "https://localhost:8080/"
        }
      },
      "source": [
        "df.skew() #check skewness of dataframe"
      ],
      "execution_count": 25,
      "outputs": [
        {
          "output_type": "execute_result",
          "data": {
            "text/plain": [
              "Overall rank                    0.000000\n",
              "Score                           0.011450\n",
              "GDP per capita                 -0.385232\n",
              "Social support                 -1.134728\n",
              "Healthy life expectancy        -0.613841\n",
              "Freedom to make life choices   -0.685636\n",
              "Generosity                      0.745942\n",
              "Perceptions of corruption       1.650410\n",
              "dtype: float64"
            ]
          },
          "metadata": {
            "tags": []
          },
          "execution_count": 25
        }
      ]
    },
    {
      "cell_type": "code",
      "metadata": {
        "id": "7m39I2uMdJf2",
        "outputId": "458d4640-7f06-4bef-ed3c-55346587e29c",
        "colab": {
          "base_uri": "https://localhost:8080/"
        }
      },
      "source": [
        "df.isnull().sum()  #number of null value in each column"
      ],
      "execution_count": 26,
      "outputs": [
        {
          "output_type": "execute_result",
          "data": {
            "text/plain": [
              "Overall rank                    0\n",
              "Country or region               0\n",
              "Score                           0\n",
              "GDP per capita                  0\n",
              "Social support                  0\n",
              "Healthy life expectancy         0\n",
              "Freedom to make life choices    0\n",
              "Generosity                      0\n",
              "Perceptions of corruption       0\n",
              "dtype: int64"
            ]
          },
          "metadata": {
            "tags": []
          },
          "execution_count": 26
        }
      ]
    },
    {
      "cell_type": "code",
      "metadata": {
        "id": "RcPvIodadSnS"
      },
      "source": [
        "df.dropna(inplace=True) #to clear missing values"
      ],
      "execution_count": 27,
      "outputs": []
    },
    {
      "cell_type": "markdown",
      "metadata": {
        "id": "6FrAwH2hcmne"
      },
      "source": [
        "**Numpy**"
      ]
    },
    {
      "cell_type": "code",
      "metadata": {
        "id": "KrGZJdIacoYN"
      },
      "source": [
        "import numpy as np"
      ],
      "execution_count": 28,
      "outputs": []
    },
    {
      "cell_type": "code",
      "metadata": {
        "id": "hkYmk2Npdbrr",
        "outputId": "898b2056-5624-4545-915f-7ffce15cdbdc",
        "colab": {
          "base_uri": "https://localhost:8080/"
        }
      },
      "source": [
        "df.ndim  #the number of axes (dimensions) of the array."
      ],
      "execution_count": 29,
      "outputs": [
        {
          "output_type": "execute_result",
          "data": {
            "text/plain": [
              "2"
            ]
          },
          "metadata": {
            "tags": []
          },
          "execution_count": 29
        }
      ]
    },
    {
      "cell_type": "code",
      "metadata": {
        "id": "Tuqgl67odemu",
        "outputId": "ce659898-b7d0-4001-f7b8-e6db7e10e96b",
        "colab": {
          "base_uri": "https://localhost:8080/"
        }
      },
      "source": [
        "print(df[:4:2])"
      ],
      "execution_count": 30,
      "outputs": [
        {
          "output_type": "stream",
          "text": [
            "   Overall rank Country or region  ...  Generosity  Perceptions of corruption\n",
            "0             1           Finland  ...       0.153                      0.393\n",
            "2             3            Norway  ...       0.271                      0.341\n",
            "\n",
            "[2 rows x 9 columns]\n"
          ],
          "name": "stdout"
        }
      ]
    },
    {
      "cell_type": "code",
      "metadata": {
        "id": "mV7Ej75bdqOy",
        "outputId": "96a3eb26-b220-4d7d-e075-6a19ba39c8f1",
        "colab": {
          "base_uri": "https://localhost:8080/"
        }
      },
      "source": [
        "#copying the dataframe\n",
        "df3=np.copy(df)\n",
        "df3"
      ],
      "execution_count": 31,
      "outputs": [
        {
          "output_type": "execute_result",
          "data": {
            "text/plain": [
              "array([[1, 'Finland', 7.769, ..., 0.596, 0.153, 0.39299999999999996],\n",
              "       [2, 'Denmark', 7.6, ..., 0.5920000000000001, 0.252, 0.41],\n",
              "       [3, 'Norway', 7.553999999999999, ..., 0.603, 0.271, 0.341],\n",
              "       ...,\n",
              "       [154, 'Afghanistan', 3.2030000000000003, ..., 0.0, 0.158, 0.025],\n",
              "       [155, 'Central African Republic', 3.083, ..., 0.225, 0.235, 0.035],\n",
              "       [156, 'South Sudan', 2.853, ..., 0.01, 0.20199999999999999, 0.091]],\n",
              "      dtype=object)"
            ]
          },
          "metadata": {
            "tags": []
          },
          "execution_count": 31
        }
      ]
    },
    {
      "cell_type": "code",
      "metadata": {
        "id": "_fqDPWS-fPDc",
        "outputId": "61ec2049-92b0-46e1-b88c-527301445000",
        "colab": {
          "base_uri": "https://localhost:8080/"
        }
      },
      "source": [
        "x = np.where(df== 'Kosovo')\n",
        "x"
      ],
      "execution_count": 32,
      "outputs": [
        {
          "output_type": "execute_result",
          "data": {
            "text/plain": [
              "(array([45]), array([1]))"
            ]
          },
          "metadata": {
            "tags": []
          },
          "execution_count": 32
        }
      ]
    },
    {
      "cell_type": "code",
      "metadata": {
        "id": "6CuLryy6ijkf",
        "outputId": "8968e3bf-6f76-43fc-b74e-4eda7c2e40f1",
        "colab": {
          "base_uri": "https://localhost:8080/"
        }
      },
      "source": [
        "np.mean(df)"
      ],
      "execution_count": 33,
      "outputs": [
        {
          "output_type": "execute_result",
          "data": {
            "text/plain": [
              "Overall rank                    78.500000\n",
              "Score                            5.407096\n",
              "GDP per capita                   0.905147\n",
              "Social support                   1.208814\n",
              "Healthy life expectancy          0.725244\n",
              "Freedom to make life choices     0.392571\n",
              "Generosity                       0.184846\n",
              "Perceptions of corruption        0.110603\n",
              "dtype: float64"
            ]
          },
          "metadata": {
            "tags": []
          },
          "execution_count": 33
        }
      ]
    },
    {
      "cell_type": "code",
      "metadata": {
        "id": "AFK71Tl7jDsD",
        "outputId": "e98b3604-d40d-4263-8af9-522c6f6db5fa",
        "colab": {
          "base_uri": "https://localhost:8080/"
        }
      },
      "source": [
        "np.split(df,3)"
      ],
      "execution_count": 34,
      "outputs": [
        {
          "output_type": "execute_result",
          "data": {
            "text/plain": [
              "[    Overall rank     Country or region  ...  Generosity  Perceptions of corruption\n",
              " 0              1               Finland  ...       0.153                      0.393\n",
              " 1              2               Denmark  ...       0.252                      0.410\n",
              " 2              3                Norway  ...       0.271                      0.341\n",
              " 3              4               Iceland  ...       0.354                      0.118\n",
              " 4              5           Netherlands  ...       0.322                      0.298\n",
              " 5              6           Switzerland  ...       0.263                      0.343\n",
              " 6              7                Sweden  ...       0.267                      0.373\n",
              " 7              8           New Zealand  ...       0.330                      0.380\n",
              " 8              9                Canada  ...       0.285                      0.308\n",
              " 9             10               Austria  ...       0.244                      0.226\n",
              " 10            11             Australia  ...       0.332                      0.290\n",
              " 11            12            Costa Rica  ...       0.144                      0.093\n",
              " 12            13                Israel  ...       0.261                      0.082\n",
              " 13            14            Luxembourg  ...       0.194                      0.316\n",
              " 14            15        United Kingdom  ...       0.348                      0.278\n",
              " 15            16               Ireland  ...       0.298                      0.310\n",
              " 16            17               Germany  ...       0.261                      0.265\n",
              " 17            18               Belgium  ...       0.160                      0.210\n",
              " 18            19         United States  ...       0.280                      0.128\n",
              " 19            20        Czech Republic  ...       0.046                      0.036\n",
              " 20            21  United Arab Emirates  ...       0.262                      0.182\n",
              " 21            22                 Malta  ...       0.375                      0.151\n",
              " 22            23                Mexico  ...       0.074                      0.073\n",
              " 23            24                France  ...       0.111                      0.183\n",
              " 24            25                Taiwan  ...       0.242                      0.097\n",
              " 25            26                 Chile  ...       0.187                      0.056\n",
              " 26            27             Guatemala  ...       0.175                      0.078\n",
              " 27            28          Saudi Arabia  ...       0.080                      0.132\n",
              " 28            29                 Qatar  ...       0.220                      0.167\n",
              " 29            30                 Spain  ...       0.153                      0.079\n",
              " 30            31                Panama  ...       0.109                      0.054\n",
              " 31            32                Brazil  ...       0.099                      0.086\n",
              " 32            33               Uruguay  ...       0.127                      0.150\n",
              " 33            34             Singapore  ...       0.271                      0.453\n",
              " 34            35           El Salvador  ...       0.093                      0.074\n",
              " 35            36                 Italy  ...       0.158                      0.030\n",
              " 36            37               Bahrain  ...       0.255                      0.110\n",
              " 37            38              Slovakia  ...       0.121                      0.014\n",
              " 38            39     Trinidad & Tobago  ...       0.185                      0.016\n",
              " 39            40                Poland  ...       0.117                      0.050\n",
              " 40            41            Uzbekistan  ...       0.322                      0.240\n",
              " 41            42             Lithuania  ...       0.043                      0.042\n",
              " 42            43              Colombia  ...       0.099                      0.034\n",
              " 43            44              Slovenia  ...       0.144                      0.057\n",
              " 44            45             Nicaragua  ...       0.200                      0.127\n",
              " 45            46                Kosovo  ...       0.262                      0.006\n",
              " 46            47             Argentina  ...       0.066                      0.050\n",
              " 47            48               Romania  ...       0.083                      0.005\n",
              " 48            49                Cyprus  ...       0.190                      0.041\n",
              " 49            50               Ecuador  ...       0.126                      0.087\n",
              " 50            51                Kuwait  ...       0.142                      0.097\n",
              " 51            52              Thailand  ...       0.359                      0.028\n",
              " \n",
              " [52 rows x 9 columns],      Overall rank  ... Perceptions of corruption\n",
              " 52             53  ...                     0.064\n",
              " 53             54  ...                     0.056\n",
              " 54             55  ...                     0.161\n",
              " 55             56  ...                     0.028\n",
              " 56             57  ...                     0.060\n",
              " 57             58  ...                     0.140\n",
              " 58             59  ...                     0.078\n",
              " 59             60  ...                     0.096\n",
              " 60             61  ...                     0.064\n",
              " 61             62  ...                     0.020\n",
              " 62             63  ...                     0.080\n",
              " 63             64  ...                     0.162\n",
              " 64             65  ...                     0.027\n",
              " 65             66  ...                     0.025\n",
              " 66             67  ...                     0.098\n",
              " 67             68  ...                     0.031\n",
              " 68             69  ...                     0.107\n",
              " 69             70  ...                     0.039\n",
              " 70             71  ...                     0.000\n",
              " 71             72  ...                     0.152\n",
              " 72             73  ...                     0.080\n",
              " 73             74  ...                     0.144\n",
              " 74             75  ...                     0.022\n",
              " 75             76  ...                     0.287\n",
              " 76             77  ...                     0.101\n",
              " 77             78  ...                     0.006\n",
              " 78             79  ...                     0.106\n",
              " 79             80  ...                     0.024\n",
              " 80             81  ...                     0.142\n",
              " 81             82  ...                     0.034\n",
              " 82             83  ...                     0.038\n",
              " 83             84  ...                     0.034\n",
              " 84             85  ...                     0.041\n",
              " 85             86  ...                     0.023\n",
              " 86             87  ...                     0.028\n",
              " 87             88  ...                     0.114\n",
              " 88             89  ...                     0.076\n",
              " 89             90  ...                     0.182\n",
              " 90             91  ...                     0.027\n",
              " 91             92  ...                     0.028\n",
              " 92             93  ...                     0.100\n",
              " 93             94  ...                     0.073\n",
              " 94             95  ...                     0.167\n",
              " 95             96  ...                     0.037\n",
              " 96             97  ...                     0.004\n",
              " 97             98  ...                     0.040\n",
              " 98             99  ...                     0.090\n",
              " 99            100  ...                     0.089\n",
              " 100           101  ...                     0.130\n",
              " 101           102  ...                     0.082\n",
              " 102           103  ...                     0.093\n",
              " 103           104  ...                     0.055\n",
              " \n",
              " [52 rows x 9 columns],      Overall rank  ... Perceptions of corruption\n",
              " 104           105  ...                     0.164\n",
              " 105           106  ...                     0.055\n",
              " 106           107  ...                     0.027\n",
              " 107           108  ...                     0.047\n",
              " 108           109  ...                     0.062\n",
              " 109           110  ...                     0.066\n",
              " 110           111  ...                     0.072\n",
              " 111           112  ...                     0.270\n",
              " 112           113  ...                     0.056\n",
              " 113           114  ...                     0.102\n",
              " 114           115  ...                     0.113\n",
              " 115           116  ...                     0.064\n",
              " 116           117  ...                     0.125\n",
              " 117           118  ...                     0.086\n",
              " 118           119  ...                     0.164\n",
              " 119           120  ...                     0.167\n",
              " 120           121  ...                     0.053\n",
              " 121           122  ...                     0.088\n",
              " 122           123  ...                     0.138\n",
              " 123           124  ...                     0.055\n",
              " 124           125  ...                     0.143\n",
              " 125           126  ...                     0.089\n",
              " 126           127  ...                     0.053\n",
              " 127           128  ...                     0.052\n",
              " 128           129  ...                     0.045\n",
              " 129           130  ...                     0.047\n",
              " 130           131  ...                     0.172\n",
              " 131           132  ...                     0.078\n",
              " 132           133  ...                     0.010\n",
              " 133           134  ...                     0.100\n",
              " 134           135  ...                     0.135\n",
              " 135           136  ...                     0.060\n",
              " 136           137  ...                     0.067\n",
              " 137           138  ...                     0.087\n",
              " 138           139  ...                     0.085\n",
              " 139           140  ...                     0.085\n",
              " 140           141  ...                     0.033\n",
              " 141           142  ...                     0.078\n",
              " 142           143  ...                     0.041\n",
              " 143           144  ...                     0.093\n",
              " 144           145  ...                     0.180\n",
              " 145           146  ...                     0.089\n",
              " 146           147  ...                     0.110\n",
              " 147           148  ...                     0.100\n",
              " 148           149  ...                     0.141\n",
              " 149           150  ...                     0.089\n",
              " 150           151  ...                     0.077\n",
              " 151           152  ...                     0.411\n",
              " 152           153  ...                     0.147\n",
              " 153           154  ...                     0.025\n",
              " 154           155  ...                     0.035\n",
              " 155           156  ...                     0.091\n",
              " \n",
              " [52 rows x 9 columns]]"
            ]
          },
          "metadata": {
            "tags": []
          },
          "execution_count": 34
        }
      ]
    },
    {
      "cell_type": "code",
      "metadata": {
        "id": "56ROt5EWjXy_",
        "outputId": "cc90e440-dac8-44f9-8cc2-e201af9980b5",
        "colab": {
          "base_uri": "https://localhost:8080/"
        }
      },
      "source": [
        "df4=np.linspace(1,10)  #Generate an evenly spaced list between the interval 1 and 10\n",
        "df4"
      ],
      "execution_count": 35,
      "outputs": [
        {
          "output_type": "execute_result",
          "data": {
            "text/plain": [
              "array([ 1.        ,  1.18367347,  1.36734694,  1.55102041,  1.73469388,\n",
              "        1.91836735,  2.10204082,  2.28571429,  2.46938776,  2.65306122,\n",
              "        2.83673469,  3.02040816,  3.20408163,  3.3877551 ,  3.57142857,\n",
              "        3.75510204,  3.93877551,  4.12244898,  4.30612245,  4.48979592,\n",
              "        4.67346939,  4.85714286,  5.04081633,  5.2244898 ,  5.40816327,\n",
              "        5.59183673,  5.7755102 ,  5.95918367,  6.14285714,  6.32653061,\n",
              "        6.51020408,  6.69387755,  6.87755102,  7.06122449,  7.24489796,\n",
              "        7.42857143,  7.6122449 ,  7.79591837,  7.97959184,  8.16326531,\n",
              "        8.34693878,  8.53061224,  8.71428571,  8.89795918,  9.08163265,\n",
              "        9.26530612,  9.44897959,  9.63265306,  9.81632653, 10.        ])"
            ]
          },
          "metadata": {
            "tags": []
          },
          "execution_count": 35
        }
      ]
    },
    {
      "cell_type": "markdown",
      "metadata": {
        "id": "DXCKYZgemJKO"
      },
      "source": [
        "\n",
        "Practice 10 python programs using numpy libraries.\n",
        "\n"
      ]
    },
    {
      "cell_type": "code",
      "metadata": {
        "id": "Uk18D9c-mKer",
        "outputId": "1bc6269d-98ff-4988-b8db-b3380ca29664",
        "colab": {
          "base_uri": "https://localhost:8080/"
        }
      },
      "source": [
        "import numpy as np\n",
        "\n",
        "a=np.array([1,2,3])  # 1D array\n",
        "print(a)\n",
        "\n",
        "b=np.array([(1,2,3),(4,5,6)])  #2D array\n",
        "print(b)\n",
        "\n",
        "#dimension of the array\n",
        "print(a.ndim)  \n",
        "print(b.ndim) \n",
        "\n",
        " # byte size of each element.\n",
        "print(a.itemsize)\n",
        "print(b.itemsize)\n",
        "\n",
        "#data type of the elements that are stored in an array.\n",
        "print(a.dtype)\n",
        "print(b.dtype)\n",
        "\n",
        "#  size and shape of the array \n",
        "c = np.array([(1,2,3,4,5,6)])\n",
        "print(c.size)\n",
        "print(c.shape)\n",
        "\n",
        "#c hange the number of rows and columns\n",
        "d = np.array([(8,9,10),(11,12,13)])\n",
        "d=d.reshape(3,2)\n",
        "print(d)\n",
        "\n",
        "#slicing\n",
        "print(d[0,1])\n",
        "print(d[0:,1])\n",
        "\n",
        "#evenly spaced numbers over a specified interval. \n",
        "e=np.linspace(1,3,10)\n",
        "print(e)\n",
        "\n",
        "#max ,min and sum\n",
        "a= np.array([1,2,3])\n",
        "print(a.min())\n",
        "print(a.max())\n",
        "print(a.sum())\n",
        "\n",
        "#suareroot\n",
        "a=np.array([(1,2,3),(3,4,5,)])\n",
        "print(np.sqrt(a))\n"
      ],
      "execution_count": 36,
      "outputs": [
        {
          "output_type": "stream",
          "text": [
            "[1 2 3]\n",
            "[[1 2 3]\n",
            " [4 5 6]]\n",
            "1\n",
            "2\n",
            "8\n",
            "8\n",
            "int64\n",
            "int64\n",
            "6\n",
            "(1, 6)\n",
            "[[ 8  9]\n",
            " [10 11]\n",
            " [12 13]]\n",
            "9\n",
            "[ 9 11 13]\n",
            "[1.         1.22222222 1.44444444 1.66666667 1.88888889 2.11111111\n",
            " 2.33333333 2.55555556 2.77777778 3.        ]\n",
            "1\n",
            "3\n",
            "6\n",
            "[[1.         1.41421356 1.73205081]\n",
            " [1.73205081 2.         2.23606798]]\n"
          ],
          "name": "stdout"
        }
      ]
    },
    {
      "cell_type": "markdown",
      "metadata": {
        "id": "x9_lftf-mLws"
      },
      "source": [
        "Practice 10 python programs using pandas libraries."
      ]
    },
    {
      "cell_type": "code",
      "metadata": {
        "id": "ZQoIczHOmMXv",
        "outputId": "4fdf6c3a-ddc4-46b0-865e-fa790d3b2dc9",
        "colab": {
          "base_uri": "https://localhost:8080/"
        }
      },
      "source": [
        "import pandas as pd\n",
        "\n",
        "data = {\n",
        "    'apples': [3, 2, 0, 1], \n",
        "    'oranges': [0, 3, 7, 2]\n",
        "}\n",
        "\n",
        "#reading data and printing it\n",
        "p = pd.DataFrame(data)\n",
        "print(p)\n",
        "\n",
        "#2 rows from top\n",
        "print(p.head(2))\n",
        "\n",
        "#2 row from bottom\n",
        "print(p.tail(2))\n",
        "\n",
        "#merging two dataframe\n",
        "df1= pd.DataFrame({ \"HPI\":[80,90,70,60],\"Int_Rate\":[2,1,2,3],\"IND_GDP\":[50,45,45,67]}, index=[2001, 2002,2003,2004])\n",
        "df2=pd.DataFrame({ \"HPI\":[80,90,70,60],\"Int_Rate\":[2,1,2,3],\"IND_GDP\":[50,45,45,67]}, index=[2005, 2006,2007,2008])\n",
        "merged= pd.merge(df1,df2)\n",
        "print(merged)\n",
        "\n",
        "\n",
        "#joining two dataframe\n",
        "df1 = pd.DataFrame({\"Int_Rate\":[2,1,2,3], \"IND_GDP\":[50,45,45,67]}, index=[2001, 2002,2003,2004])\n",
        "df2 = pd.DataFrame({\"Low_Tier_HPI\":[50,45,67,34],\"Unemployment\":[1,3,5,6]}, index=[2001, 2003,2004,2004])\n",
        "joined= df1.join(df2)\n",
        "print(joined)\n",
        "\n",
        "#concatenation\n",
        "df1 = pd.DataFrame({\"HPI\":[80,90,70,60],\"Int_Rate\":[2,1,2,3], \"IND_GDP\":[50,45,45,67]}, index=[2001, 2002,2003,2004])\n",
        "df2 = pd.DataFrame({\"HPI\":[80,90,70,60],\"Int_Rate\":[2,1,2,3],\"IND_GDP\":[50,45,45,67]}, index=[2005, 2006,2007,2008])\n",
        "concat= pd.concat([df1,df2])\n",
        "print(concat)\n",
        "\n",
        "#changing index \n",
        "df= pd.DataFrame({\"Day\":[1,2,3,4], \"Visitors\":[200, 100,230,300], \"Bounce_Rate\":[20,45,60,10]}) \n",
        "df.set_index(\"Day\", inplace= True)\n",
        "print(df)\n",
        "\n",
        "#changing column header\n",
        "df = pd.DataFrame({\"Day\":[1,2,3,4], \"Visitors\":[200, 100,230,300], \"Bounce_Rate\":[20,45,60,10]})\n",
        "df = df.rename(columns={\"Visitors\":\"Users\"})\n",
        "print(df)\n",
        "\n",
        "#checking for null value\n",
        "p.isnull().sum()\n",
        "\n",
        "#summery of dataframe\n",
        "p.info()"
      ],
      "execution_count": 37,
      "outputs": [
        {
          "output_type": "stream",
          "text": [
            "   apples  oranges\n",
            "0       3        0\n",
            "1       2        3\n",
            "2       0        7\n",
            "3       1        2\n",
            "   apples  oranges\n",
            "0       3        0\n",
            "1       2        3\n",
            "   apples  oranges\n",
            "2       0        7\n",
            "3       1        2\n",
            "   HPI  Int_Rate  IND_GDP\n",
            "0   80         2       50\n",
            "1   90         1       45\n",
            "2   70         2       45\n",
            "3   60         3       67\n",
            "      Int_Rate  IND_GDP  Low_Tier_HPI  Unemployment\n",
            "2001         2       50          50.0           1.0\n",
            "2002         1       45           NaN           NaN\n",
            "2003         2       45          45.0           3.0\n",
            "2004         3       67          67.0           5.0\n",
            "2004         3       67          34.0           6.0\n",
            "      HPI  Int_Rate  IND_GDP\n",
            "2001   80         2       50\n",
            "2002   90         1       45\n",
            "2003   70         2       45\n",
            "2004   60         3       67\n",
            "2005   80         2       50\n",
            "2006   90         1       45\n",
            "2007   70         2       45\n",
            "2008   60         3       67\n",
            "     Visitors  Bounce_Rate\n",
            "Day                       \n",
            "1         200           20\n",
            "2         100           45\n",
            "3         230           60\n",
            "4         300           10\n",
            "   Day  Users  Bounce_Rate\n",
            "0    1    200           20\n",
            "1    2    100           45\n",
            "2    3    230           60\n",
            "3    4    300           10\n",
            "<class 'pandas.core.frame.DataFrame'>\n",
            "RangeIndex: 4 entries, 0 to 3\n",
            "Data columns (total 2 columns):\n",
            " #   Column   Non-Null Count  Dtype\n",
            "---  ------   --------------  -----\n",
            " 0   apples   4 non-null      int64\n",
            " 1   oranges  4 non-null      int64\n",
            "dtypes: int64(2)\n",
            "memory usage: 192.0 bytes\n"
          ],
          "name": "stdout"
        }
      ]
    }
  ]
}