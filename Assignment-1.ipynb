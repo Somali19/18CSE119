{
  "nbformat": 4,
  "nbformat_minor": 0,
  "metadata": {
    "colab": {
      "name": "18cse119-assignment-1.ipynb",
      "provenance": [],
      "collapsed_sections": [],
      "authorship_tag": "ABX9TyMv6pr6DtgVw1V3vqfBbuQT"
    },
    "kernelspec": {
      "name": "python3",
      "display_name": "Python 3"
    }
  },
  "cells": [
    {
      "cell_type": "markdown",
      "metadata": {
        "id": "wyD735NrSMHC"
      },
      "source": [
        "## ASSIGNMENT - 1 \n",
        "\n",
        "**NAME - SOMALI PATTJOSHI**\n",
        "\n",
        "**ROLL NUMBER - 18CSE119**\n",
        "\n",
        "**SUBJECT - DMDW LAB ***\n",
        "\n"
      ]
    },
    {
      "cell_type": "markdown",
      "metadata": {
        "id": "cd6oGxIRcV4A"
      },
      "source": [
        "### (1) python code for finding mean, median and mode with and without using library functions  :"
      ]
    },
    {
      "cell_type": "markdown",
      "metadata": {
        "id": "9mlYDACkeCop"
      },
      "source": [
        "## mean , median and mode with using library functions  -"
      ]
    },
    {
      "cell_type": "markdown",
      "metadata": {
        "id": "LNTaAdAxXGXV"
      },
      "source": [
        "**Mean - The average value**\n",
        "\n",
        "**Median - The mid point value**\n",
        "\n",
        "**Mode - The most common value ***\n",
        "\n"
      ]
    },
    {
      "cell_type": "markdown",
      "metadata": {
        "id": "UatH_HG6cCMJ"
      },
      "source": [
        "**(i) By using Statistics module :**"
      ]
    },
    {
      "cell_type": "code",
      "metadata": {
        "id": "xfYU6UzQcAR9",
        "outputId": "6c8625e8-fc53-4648-a0e2-6ded423baf8f",
        "colab": {
          "base_uri": "https://localhost:8080/"
        }
      },
      "source": [
        "import statistics\n",
        "res = [23 , 14 , 5 , 17 , 33 , 14 , 64 , 23 , 38 , 23 , 10 , 2 , 8 ]\n",
        "p = statistics.mean(res)\n",
        "q = statistics.median(res)\n",
        "r = statistics.mode(res)\n",
        "\n",
        "print(\"mean : \", p)\n",
        "print(\"median: \",q)\n",
        "print(\"mode : \",r)"
      ],
      "execution_count": null,
      "outputs": [
        {
          "output_type": "stream",
          "text": [
            "mean :  21.076923076923077\n",
            "median:  17\n",
            "mode :  23\n"
          ],
          "name": "stdout"
        }
      ]
    },
    {
      "cell_type": "markdown",
      "metadata": {
        "id": "j26LETVTcKmI"
      },
      "source": [
        "**(ii) By using Numpy and Scipy module :**"
      ]
    },
    {
      "cell_type": "code",
      "metadata": {
        "id": "jCNu510YZOb7"
      },
      "source": [
        "#To find the mean use the mean() of numpy module .\n",
        "\n",
        "#To find the median use the median() of numpy module.\n",
        "\n",
        "# To find the median use the mode() of scipy module."
      ],
      "execution_count": null,
      "outputs": []
    },
    {
      "cell_type": "code",
      "metadata": {
        "id": "G7-6eY_VX2pQ",
        "outputId": "c54461c3-a58b-43a8-dab8-c3b6b0d0eaa6",
        "colab": {
          "base_uri": "https://localhost:8080/"
        }
      },
      "source": [
        "import numpy\n",
        "from scipy import stats\n",
        "res = [23 , 14 , 5 , 17 , 33 , 14 , 64 , 23 , 38 , 23 , 10 , 2 , 8  ]\n",
        "\n",
        "x = numpy.mean(res)\n",
        "y = numpy.median(res)\n",
        "z = stats.mode(res)\n",
        "print(\"mean : \", x)\n",
        "print(\"median: \", y)\n",
        "print(\"mode : \", z)\n"
      ],
      "execution_count": null,
      "outputs": [
        {
          "output_type": "stream",
          "text": [
            "mean :  21.076923076923077\n",
            "median:  17.0\n",
            "mode :  ModeResult(mode=array([23]), count=array([3]))\n"
          ],
          "name": "stdout"
        }
      ]
    },
    {
      "cell_type": "markdown",
      "metadata": {
        "id": "09eWWWBxeLuH"
      },
      "source": [
        "### mean , median and mode without using library functions -"
      ]
    },
    {
      "cell_type": "code",
      "metadata": {
        "id": "buRVRUUieM8e",
        "outputId": "ffc371c2-56c6-48da-b4f9-84d7c9eda118",
        "colab": {
          "base_uri": "https://localhost:8080/"
        }
      },
      "source": [
        "res = [23 , 14 , 5 , 17 , 33 , 14 , 64 , 23 , 38 , 23 , 10 , 2 , 8 ]\n",
        "a = sum (res) / len (res)\n",
        "b = sorted (res) [len (res) // 2]\n",
        "c = max (res , key = res.count)\n",
        "\n",
        "print(\"mean : \", a)\n",
        "print(\"median: \", b)\n",
        "print(\"mode : \", c)"
      ],
      "execution_count": null,
      "outputs": [
        {
          "output_type": "stream",
          "text": [
            "mean :  21.076923076923077\n",
            "median:  17\n",
            "mode :  23\n"
          ],
          "name": "stdout"
        }
      ]
    },
    {
      "cell_type": "markdown",
      "metadata": {
        "id": "MQ5_zkpufb5E"
      },
      "source": [
        "###(2) python code for calculating variance and standard deviation for the set of elements with and without using library functions :\n"
      ]
    },
    {
      "cell_type": "markdown",
      "metadata": {
        "id": "tTHY9xrGwsW9"
      },
      "source": [
        "###Variance and standard deviation without using library function -"
      ]
    },
    {
      "cell_type": "code",
      "metadata": {
        "id": "QCZLPlJ21cjF",
        "outputId": "aeb79749-5eab-4561-eba9-0dab34ece229",
        "colab": {
          "base_uri": "https://localhost:8080/"
        }
      },
      "source": [
        "l=[8,2,16,18,2,18,30,12]\n",
        "m = sum(l) / len(l) \n",
        "v = sum([((x - m) ** 2) for x in l]) / len(l) \n",
        "d = v** 0.5\n",
        "print(\"Variance :\",v)\n",
        "print(\"Standard deviation  : \" ,d) "
      ],
      "execution_count": null,
      "outputs": [
        {
          "output_type": "stream",
          "text": [
            "Variance : 76.9375\n",
            "Standard deviation  :  8.771402396424417\n"
          ],
          "name": "stdout"
        }
      ]
    },
    {
      "cell_type": "markdown",
      "metadata": {
        "id": "40kVwxTJ1rZt"
      },
      "source": [
        "###Variance and standard deviation with using library function -"
      ]
    },
    {
      "cell_type": "code",
      "metadata": {
        "id": "4A4ViGVF1vCl",
        "outputId": "057576ac-6416-497d-be26-d59b5048221a",
        "colab": {
          "base_uri": "https://localhost:8080/"
        }
      },
      "source": [
        "import statistics\n",
        "l=[4,36,8,29,6,8,25]\n",
        "v = statistics.variance(l)\n",
        "d = statistics.stdev(l)\n",
        "print(\"Variance :\",v)\n",
        "print(\"Standard deviation  : \" ,d) "
      ],
      "execution_count": null,
      "outputs": [
        {
          "output_type": "stream",
          "text": [
            "Variance : 169.95238095238096\n",
            "Standard deviation  :  13.036578575392431\n"
          ],
          "name": "stdout"
        }
      ]
    },
    {
      "cell_type": "markdown",
      "metadata": {
        "id": "0ua3rzJ9wn7w"
      },
      "source": [
        "###(3) python programs with List, Tuple, Dictionary & string :"
      ]
    },
    {
      "cell_type": "markdown",
      "metadata": {
        "id": "Gc_R6l-D_3fY"
      },
      "source": [
        "**List**\n",
        "\n",
        "Lists are used to store multiple items in a single variable.\n",
        "Lists are created using square brackets [ ].\n",
        "List items are ordered,  mutable , and allow duplicate values.\n"
      ]
    },
    {
      "cell_type": "code",
      "metadata": {
        "id": "Z_ahKwtb1ahw",
        "outputId": "c4583d7a-5f8e-45b7-b7ad-3aa700a7869c",
        "colab": {
          "base_uri": "https://localhost:8080/"
        }
      },
      "source": [
        "#creating a list and printing its value :\n",
        "l = [12 , 4.56 , 'data' , 8 , True] #list can hold string , integer , float and boolean values.\n",
        "print(l)"
      ],
      "execution_count": null,
      "outputs": [
        {
          "output_type": "stream",
          "text": [
            "[12, 4.56, 'data', 8, True]\n"
          ],
          "name": "stdout"
        }
      ]
    },
    {
      "cell_type": "code",
      "metadata": {
        "id": "L-02VT4FBC70",
        "outputId": "c5574d02-124a-4d69-a705-ed74081a2b3e",
        "colab": {
          "base_uri": "https://localhost:8080/"
        }
      },
      "source": [
        "##methods of lists :\n",
        "l1= [12 , 4.56 , 'data' , 8 , True]\n",
        "l2 = [5,10,80,60,10,5]\n",
        "\n",
        "# index() : returns the index of the specified element in the list.\n",
        "v = l1.index(True)\n",
        "print(v)\n",
        "\n",
        "# append() : Add a single element to the end of the list.\n",
        "l1.append(30)\n",
        "print(l1)\n",
        "\n",
        "# extend() : adds all the elements to the end of the list.\n",
        "l1.extend(l2)\n",
        "print(l1)\n",
        "\n",
        "# insert() :  inserts an element to the list at the specified index.\n",
        "l2.insert(2, 50)\n",
        "print(l2)\n",
        "\n",
        "# count() : returns the number of times the specified element appears in the list.\n",
        "c = l2.count(5)\n",
        "print(c)\n",
        "\n",
        "#len() : returns the length of the list.\n",
        "s = len(l2)\n",
        "print(\"length of the list l2 is : \",s)\n",
        "\n",
        "# remove() : removes the first matching element from the list.\n",
        "l2.remove(10)\n",
        "print(l2)\n",
        "\n",
        "# pop() : removes the item at the given index from the list and returns the removed item.\n",
        "l2.pop(5)\n",
        "print(l2)\n",
        "\n",
        "# sort() : sorts the elements of a given list in a specific ascending or descending order.\n",
        "l2.sort()\n",
        "print(l2)\n",
        "\n",
        "# copy() : returns a shallow copy of the list.\n",
        "l3=l1.copy()\n",
        "print(l3)\n",
        "\n",
        "# clear() : removes all items from the list.\n",
        "l2.clear()\n",
        "print(l2)\n",
        "\n",
        "\n",
        "\n"
      ],
      "execution_count": null,
      "outputs": [
        {
          "output_type": "stream",
          "text": [
            "4\n",
            "[12, 4.56, 'data', 8, True, 30]\n",
            "[12, 4.56, 'data', 8, True, 30, 5, 10, 80, 60, 10, 5]\n",
            "[5, 10, 50, 80, 60, 10, 5]\n",
            "2\n",
            "length of the list l2 is :  7\n",
            "[5, 50, 80, 60, 10, 5]\n",
            "[5, 50, 80, 60, 10]\n",
            "[5, 10, 50, 60, 80]\n",
            "[12, 4.56, 'data', 8, True, 30, 5, 10, 80, 60, 10, 5]\n",
            "[]\n"
          ],
          "name": "stdout"
        }
      ]
    },
    {
      "cell_type": "markdown",
      "metadata": {
        "id": "dpOlez96BYKb"
      },
      "source": [
        "**Tuple**\n",
        "\n",
        "A tuple is a collection which is ordered and immutable.  Tuples are written with round brackets ( ).  Methods that add items or remove items are not available with tuple because it is immutable."
      ]
    },
    {
      "cell_type": "code",
      "metadata": {
        "id": "me6l1CKLCH3g",
        "outputId": "d601710d-35ff-436b-fcf8-0db5230c9a95",
        "colab": {
          "base_uri": "https://localhost:8080/"
        }
      },
      "source": [
        "#creating a tuple and printing it :\n",
        "t = (\"apple\", \"banana\", \"cherry\")\n",
        "print(t)\n"
      ],
      "execution_count": null,
      "outputs": [
        {
          "output_type": "stream",
          "text": [
            "('apple', 'banana', 'cherry')\n"
          ],
          "name": "stdout"
        }
      ]
    },
    {
      "cell_type": "code",
      "metadata": {
        "id": "_Y3h02zEW1xG",
        "outputId": "33f0f2a9-adcb-4607-842e-9684b9424c6b",
        "colab": {
          "base_uri": "https://localhost:8080/"
        }
      },
      "source": [
        "#methods of tuple :\n",
        "t1 = ('hello' , 20 , 80 , 'bye')\n",
        "t2 = (28, 32, 49 , 12, 11)\n",
        "\n",
        "# count( )  : returns the number of apperance of the elements.\n",
        "print(t1.count('hello')) \n",
        "\n",
        "#index( ) : return the index of element.\n",
        "print(t1.index(80)) \n",
        "\n",
        "# Membership operator\n",
        "my_tuple = ('a', 'p', 'p', 'l', 'e',)\n",
        "# In operation\n",
        "print('a' in my_tuple)\n",
        "print('b' in my_tuple)\n",
        "# Not in operation\n",
        "print('g' not in my_tuple)\n",
        "\n",
        "# type() : return the type of object.\n",
        "type(t1)\n",
        "\n",
        "#len () : returns the length of the tuple.\n",
        "print(len(t1))\n",
        "\n",
        "# sorted() : sorts the elements of a given tuple in a specific ascending or descending order.\n",
        "print(sorted(t2))\n",
        "\n",
        "# max() : returns the maximum element of the tuple.\n",
        "print(max(t2))\n",
        "\n",
        "# min() : returns the minimum element of the tuple.\n",
        "print(min(t2))\n",
        "\n",
        "#del () : delete the tuple.\n",
        "del (t1)\n",
        "\n",
        "# sum () : sum of the element of tuple.\n",
        "sum(t2)\n",
        "\n",
        "\n"
      ],
      "execution_count": null,
      "outputs": [
        {
          "output_type": "stream",
          "text": [
            "1\n",
            "2\n",
            "True\n",
            "False\n",
            "True\n",
            "4\n",
            "[11, 12, 28, 32, 49]\n",
            "49\n",
            "11\n"
          ],
          "name": "stdout"
        },
        {
          "output_type": "execute_result",
          "data": {
            "text/plain": [
              "132"
            ]
          },
          "metadata": {
            "tags": []
          },
          "execution_count": 23
        }
      ]
    },
    {
      "cell_type": "markdown",
      "metadata": {
        "id": "xWfAxdGv1XD6"
      },
      "source": [
        "**Dictionary**\n",
        "\n",
        "A dictionary is a collection which is unordered, mutable and indexed.  Dictionaries are written with curly brackets, and they have keys and values."
      ]
    },
    {
      "cell_type": "code",
      "metadata": {
        "id": "VyARYAAtc3v6",
        "outputId": "5b74b1de-4df6-440e-aacb-b7c3b0f39b79",
        "colab": {
          "base_uri": "https://localhost:8080/"
        }
      },
      "source": [
        "#creating a dictionary and printing it :\n",
        "d = {\"hello\": 5, \"hey\": 2, \"bye\": 4}\n",
        "print(d)"
      ],
      "execution_count": null,
      "outputs": [
        {
          "output_type": "stream",
          "text": [
            "{'hello': 5, 'hey': 2, 'bye': 4}\n"
          ],
          "name": "stdout"
        }
      ]
    },
    {
      "cell_type": "code",
      "metadata": {
        "id": "ETn5jH7-y54e",
        "outputId": "21a7a146-ce03-48b0-bf22-58b1bca3f6a1",
        "colab": {
          "base_uri": "https://localhost:8080/"
        }
      },
      "source": [
        "#methods of dictionary :\n",
        "d1 = { 'apple': 2, 'orange': 3, 'grapes': 4 , 'green apple':5}\n",
        "\n",
        "# values() : returns a view object that displays a list of all the values in the dictionary.\n",
        "print(d1.values())\n",
        "\n",
        "# items() : returns a view object that displays a list of dictionary's (key, value) tuple pairs.\n",
        "print(d1.items())\n",
        "\n",
        "# copy() : returns a copy of the dictionary.\n",
        "d2 = d1.copy()\n",
        "print(d2)\n",
        "\n",
        "# clear() : removes all items from the dictionary.\n",
        "d2.clear()\n",
        "print(d2)\n",
        "\n",
        "# fromkeys() : creates a new dictionary from the given sequence of elements with a value provided by the user.\n",
        "keys = {'a', 'e', 'i', 'o', 'u' }\n",
        "value = 'vowel'\n",
        "vowels = dict.fromkeys(keys , value)\n",
        "print(vowels)\n",
        "\n",
        "# get() : returns the value for the specified key if key is in dictionary.\n",
        "person = {'name': 'Phill', 'age': 22}\n",
        "print('Name: ', person.get('name'))\n",
        "print('Age: ', person.get('age'))\n",
        "\n",
        "# pop() : removes and returns an element from a dictionary having the given key.\n",
        "res = d1.pop('apple')\n",
        "print(d1)\n",
        "\n",
        "# popitem() : removes and returns the last element (key, value) pair inserted into the dictionary.\n",
        "res2=d1.popitem()\n",
        "print(d1)\n",
        "\n",
        "# keys() : returns a view object that displays a list of all the keys in the dictionary.\n",
        "person.keys()\n",
        "\n",
        "# update() : updates the dictionary with the elements from the another dictionary object or from an iterable of key/value pairs.\n",
        "d2={'pinapple':6}\n",
        "d2.update(d1)\n",
        "print(d2)\n"
      ],
      "execution_count": null,
      "outputs": [
        {
          "output_type": "stream",
          "text": [
            "dict_values([2, 3, 4, 5])\n",
            "dict_items([('apple', 2), ('orange', 3), ('grapes', 4), ('green apple', 5)])\n",
            "{'apple': 2, 'orange': 3, 'grapes': 4, 'green apple': 5}\n",
            "{}\n",
            "{'u': 'vowel', 'e': 'vowel', 'i': 'vowel', 'a': 'vowel', 'o': 'vowel'}\n",
            "Name:  Phill\n",
            "Age:  22\n",
            "{'orange': 3, 'grapes': 4, 'green apple': 5}\n",
            "{'orange': 3, 'grapes': 4}\n",
            "{'pinapple': 6, 'orange': 3, 'grapes': 4}\n"
          ],
          "name": "stdout"
        }
      ]
    },
    {
      "cell_type": "markdown",
      "metadata": {
        "id": "1s9_OYRqgFZz"
      },
      "source": [
        "**String**\n",
        "\n",
        "String  are surrounded by either single quotation or double quotation. we can assign a multiline string to a variable by using three quotes"
      ]
    },
    {
      "cell_type": "code",
      "metadata": {
        "id": "dY2D33tFgitz",
        "outputId": "a4b3d73a-1b1b-4e54-ff16-948c9b85a2bd",
        "colab": {
          "base_uri": "https://localhost:8080/"
        }
      },
      "source": [
        "#string methods :\n",
        "s = \"hello\"\n",
        "\n",
        "# capitalize() : converts first character of a string to uppercase letter and lowercases all other characters, if any.\n",
        "new = s.capitalize()\n",
        "print(new)\n",
        "\n",
        "# center() : returns a string which is padded with the specified character.\n",
        "s1= \"Python is is awesome\"\n",
        "s2 = s1.center(32 )\n",
        "print(s2)\n",
        "\n",
        "# count() : returns the number of occurrences of a substring in the given string.\n",
        "s3 = 'is'\n",
        "c = s1.count(s3)\n",
        "print(c)\n",
        "\n",
        "# find() : returns the index of first occurrence of the substring (if found). If not found, it returns -1.\n",
        "q = 'Let it be'\n",
        "result = q.find('Let it')\n",
        "print( result)\n",
        "\n",
        "# format() : formats the given string into a nicer output in Python.\n",
        "print(\"Hello {}, your balance is {}.\".format(\"Ayu\", 230.2346))\n",
        "\n",
        "#index() :d returns the index of a substring inside the string (if found). If the substring is not found, it raises an exception.\n",
        "sentence = 'Python programming is fun.'\n",
        "print(sentence.index('ing', 10))\n",
        "\n",
        "# isalnum() :returns True if all characters in the string are alphanumeric (either alphabets or numbers). If not, it returns False.\n",
        "name = \"1234abc\"\n",
        "print(name.isalnum())\n",
        "\n",
        "# isalpha() : returns True if all characters in the string are alphabets. If not, it returns False.\n",
        "name = \"Somali\"\n",
        "print(name.isalpha())\n",
        "\n",
        "# isupper() : returns whether or not all characters in a string are uppercased or not.\n",
        "string = \"THIS IS GOOD!\"\n",
        "print(string.isupper());\n",
        "\n",
        "# islower() : returns True if all alphabets in a string are lowercase alphabets. If the string contains at least one uppercase alphabet, it returns False.\n",
        "s = 'this is good'\n",
        "print(s.islower())\n"
      ],
      "execution_count": null,
      "outputs": [
        {
          "output_type": "stream",
          "text": [
            "Hello\n",
            "      Python is is awesome      \n",
            "2\n",
            "0\n",
            "Hello Ayu, your balance is 230.2346.\n",
            "15\n",
            "True\n",
            "True\n",
            "True\n",
            "True\n"
          ],
          "name": "stdout"
        }
      ]
    }
  ]
}