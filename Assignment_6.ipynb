{
  "nbformat": 4,
  "nbformat_minor": 0,
  "metadata": {
    "colab": {
      "name": "Assignment_6.ipynb",
      "provenance": [],
      "collapsed_sections": [],
      "authorship_tag": "ABX9TyNThE/5GpWo4jWqLUCoEv6n",
      "include_colab_link": true
    },
    "kernelspec": {
      "name": "python3",
      "display_name": "Python 3"
    }
  },
  "cells": [
    {
      "cell_type": "markdown",
      "metadata": {
        "id": "view-in-github",
        "colab_type": "text"
      },
      "source": [
        "<a href=\"https://colab.research.google.com/github/Somali19/18CSE119/blob/main/Assignment_6.ipynb\" target=\"_parent\"><img src=\"https://colab.research.google.com/assets/colab-badge.svg\" alt=\"Open In Colab\"/></a>"
      ]
    },
    {
      "cell_type": "markdown",
      "metadata": {
        "id": "huV9NXt4hNGg"
      },
      "source": [
        "**ASSIGNMENT - 6**\n",
        "\n",
        "**NAME : SOMALI PATTJOSHI**\n",
        "\n",
        "**ROLLNO : 18CSE119**\n",
        "\n",
        "**SUBJECT : DMDW LAB***\n",
        "\n",
        "Questions :\n",
        "\n",
        "\n",
        "1. Write a python code to evaluate the covariance and correlation of by using any two columns.\n",
        "2. Write a python code to implement chi square test.\n",
        "3. Write a python code to implement different types of normalization."
      ]
    },
    {
      "cell_type": "code",
      "metadata": {
        "id": "haTcLVs0hJav"
      },
      "source": [
        "import pandas as pd\n",
        "import numpy as np\n",
        "import matplotlib.pyplot as plt\n",
        "import seaborn as sns"
      ],
      "execution_count": 1,
      "outputs": []
    },
    {
      "cell_type": "code",
      "metadata": {
        "colab": {
          "base_uri": "https://localhost:8080/",
          "height": 224
        },
        "id": "32dkEy-YhZ7y",
        "outputId": "3d5b607d-db3d-4107-9e71-be11687ac5c5"
      },
      "source": [
        "url = \"https://raw.githubusercontent.com/Anasuya-Sahoo/DMDW-Lab/main/student-mat.csv\"\n",
        "data = pd.read_csv(url)\n",
        "data.head()"
      ],
      "execution_count": 2,
      "outputs": [
        {
          "output_type": "execute_result",
          "data": {
            "text/html": [
              "<div>\n",
              "<style scoped>\n",
              "    .dataframe tbody tr th:only-of-type {\n",
              "        vertical-align: middle;\n",
              "    }\n",
              "\n",
              "    .dataframe tbody tr th {\n",
              "        vertical-align: top;\n",
              "    }\n",
              "\n",
              "    .dataframe thead th {\n",
              "        text-align: right;\n",
              "    }\n",
              "</style>\n",
              "<table border=\"1\" class=\"dataframe\">\n",
              "  <thead>\n",
              "    <tr style=\"text-align: right;\">\n",
              "      <th></th>\n",
              "      <th>school</th>\n",
              "      <th>sex</th>\n",
              "      <th>age</th>\n",
              "      <th>address</th>\n",
              "      <th>famsize</th>\n",
              "      <th>Pstatus</th>\n",
              "      <th>Medu</th>\n",
              "      <th>Fedu</th>\n",
              "      <th>Mjob</th>\n",
              "      <th>Fjob</th>\n",
              "      <th>reason</th>\n",
              "      <th>guardian</th>\n",
              "      <th>traveltime</th>\n",
              "      <th>studytime</th>\n",
              "      <th>failures</th>\n",
              "      <th>schoolsup</th>\n",
              "      <th>famsup</th>\n",
              "      <th>paid</th>\n",
              "      <th>activities</th>\n",
              "      <th>nursery</th>\n",
              "      <th>higher</th>\n",
              "      <th>internet</th>\n",
              "      <th>romantic</th>\n",
              "      <th>famrel</th>\n",
              "      <th>freetime</th>\n",
              "      <th>goout</th>\n",
              "      <th>Dalc</th>\n",
              "      <th>Walc</th>\n",
              "      <th>health</th>\n",
              "      <th>absences</th>\n",
              "      <th>G1</th>\n",
              "      <th>G2</th>\n",
              "      <th>G3</th>\n",
              "    </tr>\n",
              "  </thead>\n",
              "  <tbody>\n",
              "    <tr>\n",
              "      <th>0</th>\n",
              "      <td>GP</td>\n",
              "      <td>F</td>\n",
              "      <td>18</td>\n",
              "      <td>U</td>\n",
              "      <td>GT3</td>\n",
              "      <td>A</td>\n",
              "      <td>4</td>\n",
              "      <td>4</td>\n",
              "      <td>at_home</td>\n",
              "      <td>teacher</td>\n",
              "      <td>course</td>\n",
              "      <td>mother</td>\n",
              "      <td>2</td>\n",
              "      <td>2</td>\n",
              "      <td>0</td>\n",
              "      <td>yes</td>\n",
              "      <td>no</td>\n",
              "      <td>no</td>\n",
              "      <td>no</td>\n",
              "      <td>yes</td>\n",
              "      <td>yes</td>\n",
              "      <td>no</td>\n",
              "      <td>no</td>\n",
              "      <td>4</td>\n",
              "      <td>3</td>\n",
              "      <td>4</td>\n",
              "      <td>1</td>\n",
              "      <td>1</td>\n",
              "      <td>3</td>\n",
              "      <td>6</td>\n",
              "      <td>5</td>\n",
              "      <td>6</td>\n",
              "      <td>6</td>\n",
              "    </tr>\n",
              "    <tr>\n",
              "      <th>1</th>\n",
              "      <td>GP</td>\n",
              "      <td>F</td>\n",
              "      <td>17</td>\n",
              "      <td>U</td>\n",
              "      <td>GT3</td>\n",
              "      <td>T</td>\n",
              "      <td>1</td>\n",
              "      <td>1</td>\n",
              "      <td>at_home</td>\n",
              "      <td>other</td>\n",
              "      <td>course</td>\n",
              "      <td>father</td>\n",
              "      <td>1</td>\n",
              "      <td>2</td>\n",
              "      <td>0</td>\n",
              "      <td>no</td>\n",
              "      <td>yes</td>\n",
              "      <td>no</td>\n",
              "      <td>no</td>\n",
              "      <td>no</td>\n",
              "      <td>yes</td>\n",
              "      <td>yes</td>\n",
              "      <td>no</td>\n",
              "      <td>5</td>\n",
              "      <td>3</td>\n",
              "      <td>3</td>\n",
              "      <td>1</td>\n",
              "      <td>1</td>\n",
              "      <td>3</td>\n",
              "      <td>4</td>\n",
              "      <td>5</td>\n",
              "      <td>5</td>\n",
              "      <td>6</td>\n",
              "    </tr>\n",
              "    <tr>\n",
              "      <th>2</th>\n",
              "      <td>GP</td>\n",
              "      <td>F</td>\n",
              "      <td>15</td>\n",
              "      <td>U</td>\n",
              "      <td>LE3</td>\n",
              "      <td>T</td>\n",
              "      <td>1</td>\n",
              "      <td>1</td>\n",
              "      <td>at_home</td>\n",
              "      <td>other</td>\n",
              "      <td>other</td>\n",
              "      <td>mother</td>\n",
              "      <td>1</td>\n",
              "      <td>2</td>\n",
              "      <td>3</td>\n",
              "      <td>yes</td>\n",
              "      <td>no</td>\n",
              "      <td>yes</td>\n",
              "      <td>no</td>\n",
              "      <td>yes</td>\n",
              "      <td>yes</td>\n",
              "      <td>yes</td>\n",
              "      <td>no</td>\n",
              "      <td>4</td>\n",
              "      <td>3</td>\n",
              "      <td>2</td>\n",
              "      <td>2</td>\n",
              "      <td>3</td>\n",
              "      <td>3</td>\n",
              "      <td>10</td>\n",
              "      <td>7</td>\n",
              "      <td>8</td>\n",
              "      <td>10</td>\n",
              "    </tr>\n",
              "    <tr>\n",
              "      <th>3</th>\n",
              "      <td>GP</td>\n",
              "      <td>F</td>\n",
              "      <td>15</td>\n",
              "      <td>U</td>\n",
              "      <td>GT3</td>\n",
              "      <td>T</td>\n",
              "      <td>4</td>\n",
              "      <td>2</td>\n",
              "      <td>health</td>\n",
              "      <td>services</td>\n",
              "      <td>home</td>\n",
              "      <td>mother</td>\n",
              "      <td>1</td>\n",
              "      <td>3</td>\n",
              "      <td>0</td>\n",
              "      <td>no</td>\n",
              "      <td>yes</td>\n",
              "      <td>yes</td>\n",
              "      <td>yes</td>\n",
              "      <td>yes</td>\n",
              "      <td>yes</td>\n",
              "      <td>yes</td>\n",
              "      <td>yes</td>\n",
              "      <td>3</td>\n",
              "      <td>2</td>\n",
              "      <td>2</td>\n",
              "      <td>1</td>\n",
              "      <td>1</td>\n",
              "      <td>5</td>\n",
              "      <td>2</td>\n",
              "      <td>15</td>\n",
              "      <td>14</td>\n",
              "      <td>15</td>\n",
              "    </tr>\n",
              "    <tr>\n",
              "      <th>4</th>\n",
              "      <td>GP</td>\n",
              "      <td>F</td>\n",
              "      <td>16</td>\n",
              "      <td>U</td>\n",
              "      <td>GT3</td>\n",
              "      <td>T</td>\n",
              "      <td>3</td>\n",
              "      <td>3</td>\n",
              "      <td>other</td>\n",
              "      <td>other</td>\n",
              "      <td>home</td>\n",
              "      <td>father</td>\n",
              "      <td>1</td>\n",
              "      <td>2</td>\n",
              "      <td>0</td>\n",
              "      <td>no</td>\n",
              "      <td>yes</td>\n",
              "      <td>yes</td>\n",
              "      <td>no</td>\n",
              "      <td>yes</td>\n",
              "      <td>yes</td>\n",
              "      <td>no</td>\n",
              "      <td>no</td>\n",
              "      <td>4</td>\n",
              "      <td>3</td>\n",
              "      <td>2</td>\n",
              "      <td>1</td>\n",
              "      <td>2</td>\n",
              "      <td>5</td>\n",
              "      <td>4</td>\n",
              "      <td>6</td>\n",
              "      <td>10</td>\n",
              "      <td>10</td>\n",
              "    </tr>\n",
              "  </tbody>\n",
              "</table>\n",
              "</div>"
            ],
            "text/plain": [
              "  school sex  age address famsize Pstatus  ...  Walc  health absences  G1  G2  G3\n",
              "0     GP   F   18       U     GT3       A  ...     1       3        6   5   6   6\n",
              "1     GP   F   17       U     GT3       T  ...     1       3        4   5   5   6\n",
              "2     GP   F   15       U     LE3       T  ...     3       3       10   7   8  10\n",
              "3     GP   F   15       U     GT3       T  ...     1       5        2  15  14  15\n",
              "4     GP   F   16       U     GT3       T  ...     2       5        4   6  10  10\n",
              "\n",
              "[5 rows x 33 columns]"
            ]
          },
          "metadata": {
            "tags": []
          },
          "execution_count": 2
        }
      ]
    },
    {
      "cell_type": "code",
      "metadata": {
        "colab": {
          "base_uri": "https://localhost:8080/",
          "height": 204
        },
        "id": "_iLdYuLnhb_x",
        "outputId": "5b4522a4-b5d3-466b-f901-afa7dd528f99"
      },
      "source": [
        "df = data[['traveltime','studytime']]\n",
        "df.head()"
      ],
      "execution_count": 3,
      "outputs": [
        {
          "output_type": "execute_result",
          "data": {
            "text/html": [
              "<div>\n",
              "<style scoped>\n",
              "    .dataframe tbody tr th:only-of-type {\n",
              "        vertical-align: middle;\n",
              "    }\n",
              "\n",
              "    .dataframe tbody tr th {\n",
              "        vertical-align: top;\n",
              "    }\n",
              "\n",
              "    .dataframe thead th {\n",
              "        text-align: right;\n",
              "    }\n",
              "</style>\n",
              "<table border=\"1\" class=\"dataframe\">\n",
              "  <thead>\n",
              "    <tr style=\"text-align: right;\">\n",
              "      <th></th>\n",
              "      <th>traveltime</th>\n",
              "      <th>studytime</th>\n",
              "    </tr>\n",
              "  </thead>\n",
              "  <tbody>\n",
              "    <tr>\n",
              "      <th>0</th>\n",
              "      <td>2</td>\n",
              "      <td>2</td>\n",
              "    </tr>\n",
              "    <tr>\n",
              "      <th>1</th>\n",
              "      <td>1</td>\n",
              "      <td>2</td>\n",
              "    </tr>\n",
              "    <tr>\n",
              "      <th>2</th>\n",
              "      <td>1</td>\n",
              "      <td>2</td>\n",
              "    </tr>\n",
              "    <tr>\n",
              "      <th>3</th>\n",
              "      <td>1</td>\n",
              "      <td>3</td>\n",
              "    </tr>\n",
              "    <tr>\n",
              "      <th>4</th>\n",
              "      <td>1</td>\n",
              "      <td>2</td>\n",
              "    </tr>\n",
              "  </tbody>\n",
              "</table>\n",
              "</div>"
            ],
            "text/plain": [
              "   traveltime  studytime\n",
              "0           2          2\n",
              "1           1          2\n",
              "2           1          2\n",
              "3           1          3\n",
              "4           1          2"
            ]
          },
          "metadata": {
            "tags": []
          },
          "execution_count": 3
        }
      ]
    },
    {
      "cell_type": "code",
      "metadata": {
        "colab": {
          "base_uri": "https://localhost:8080/",
          "height": 111
        },
        "id": "RuMjHrOsheM1",
        "outputId": "888e0738-0652-4107-d353-40ef60be3e2d"
      },
      "source": [
        "covariance = df.cov()\n",
        "covariance"
      ],
      "execution_count": 4,
      "outputs": [
        {
          "output_type": "execute_result",
          "data": {
            "text/html": [
              "<div>\n",
              "<style scoped>\n",
              "    .dataframe tbody tr th:only-of-type {\n",
              "        vertical-align: middle;\n",
              "    }\n",
              "\n",
              "    .dataframe tbody tr th {\n",
              "        vertical-align: top;\n",
              "    }\n",
              "\n",
              "    .dataframe thead th {\n",
              "        text-align: right;\n",
              "    }\n",
              "</style>\n",
              "<table border=\"1\" class=\"dataframe\">\n",
              "  <thead>\n",
              "    <tr style=\"text-align: right;\">\n",
              "      <th></th>\n",
              "      <th>traveltime</th>\n",
              "      <th>studytime</th>\n",
              "    </tr>\n",
              "  </thead>\n",
              "  <tbody>\n",
              "    <tr>\n",
              "      <th>traveltime</th>\n",
              "      <td>0.486513</td>\n",
              "      <td>-0.059070</td>\n",
              "    </tr>\n",
              "    <tr>\n",
              "      <th>studytime</th>\n",
              "      <td>-0.059070</td>\n",
              "      <td>0.704324</td>\n",
              "    </tr>\n",
              "  </tbody>\n",
              "</table>\n",
              "</div>"
            ],
            "text/plain": [
              "            traveltime  studytime\n",
              "traveltime    0.486513  -0.059070\n",
              "studytime    -0.059070   0.704324"
            ]
          },
          "metadata": {
            "tags": []
          },
          "execution_count": 4
        }
      ]
    },
    {
      "cell_type": "code",
      "metadata": {
        "colab": {
          "base_uri": "https://localhost:8080/",
          "height": 268
        },
        "id": "u8aMMT6Chf2R",
        "outputId": "906b58b7-7a82-4c2e-ea73-3a5aae5d9593"
      },
      "source": [
        "sns.heatmap(covariance,cmap ='YlGnBu')\n",
        "plt.show()"
      ],
      "execution_count": 5,
      "outputs": [
        {
          "output_type": "display_data",
          "data": {
            "image/png": "[encoded data removed]",
            "text/plain": [
              "<Figure size 432x288 with 2 Axes>"
            ]
          },
          "metadata": {
            "tags": [],
            "needs_background": "light"
          }
        }
      ]
    },
    {
      "cell_type": "code",
      "metadata": {
        "colab": {
          "base_uri": "https://localhost:8080/",
          "height": 111
        },
        "id": "TlzMP-YZhiUm",
        "outputId": "7c76056e-3eef-40b8-fdd4-86a957e28060"
      },
      "source": [
        "correlation = df.corr()\n",
        "correlation"
      ],
      "execution_count": 6,
      "outputs": [
        {
          "output_type": "execute_result",
          "data": {
            "text/html": [
              "<div>\n",
              "<style scoped>\n",
              "    .dataframe tbody tr th:only-of-type {\n",
              "        vertical-align: middle;\n",
              "    }\n",
              "\n",
              "    .dataframe tbody tr th {\n",
              "        vertical-align: top;\n",
              "    }\n",
              "\n",
              "    .dataframe thead th {\n",
              "        text-align: right;\n",
              "    }\n",
              "</style>\n",
              "<table border=\"1\" class=\"dataframe\">\n",
              "  <thead>\n",
              "    <tr style=\"text-align: right;\">\n",
              "      <th></th>\n",
              "      <th>traveltime</th>\n",
              "      <th>studytime</th>\n",
              "    </tr>\n",
              "  </thead>\n",
              "  <tbody>\n",
              "    <tr>\n",
              "      <th>traveltime</th>\n",
              "      <td>1.000000</td>\n",
              "      <td>-0.100909</td>\n",
              "    </tr>\n",
              "    <tr>\n",
              "      <th>studytime</th>\n",
              "      <td>-0.100909</td>\n",
              "      <td>1.000000</td>\n",
              "    </tr>\n",
              "  </tbody>\n",
              "</table>\n",
              "</div>"
            ],
            "text/plain": [
              "            traveltime  studytime\n",
              "traveltime    1.000000  -0.100909\n",
              "studytime    -0.100909   1.000000"
            ]
          },
          "metadata": {
            "tags": []
          },
          "execution_count": 6
        }
      ]
    },
    {
      "cell_type": "code",
      "metadata": {
        "colab": {
          "base_uri": "https://localhost:8080/",
          "height": 269
        },
        "id": "FuGEyzmJhkKm",
        "outputId": "d4f9f44c-caca-4dd8-daf9-61053df111af"
      },
      "source": [
        "sns.heatmap(correlation,cmap='BuGn_r')\n",
        "plt.show()"
      ],
      "execution_count": 7,
      "outputs": [
        {
          "output_type": "display_data",
          "data": {
            "image/png": "[encoded data removed]",
            "text/plain": [
              "<Figure size 432x288 with 2 Axes>"
            ]
          },
          "metadata": {
            "tags": [],
            "needs_background": "light"
          }
        }
      ]
    },
    {
      "cell_type": "markdown",
      "metadata": {
        "id": "kEa3livIhsYo"
      },
      "source": [
        "Implement chi square test"
      ]
    },
    {
      "cell_type": "code",
      "metadata": {
        "colab": {
          "base_uri": "https://localhost:8080/",
          "height": 204
        },
        "id": "_H_glm_shlon",
        "outputId": "1af88804-2ee0-44e9-ab10-fcd4fbb7b4a4"
      },
      "source": [
        "dfnom = data[['Mjob','Fjob']]\n",
        "dfnom.head()"
      ],
      "execution_count": 8,
      "outputs": [
        {
          "output_type": "execute_result",
          "data": {
            "text/html": [
              "<div>\n",
              "<style scoped>\n",
              "    .dataframe tbody tr th:only-of-type {\n",
              "        vertical-align: middle;\n",
              "    }\n",
              "\n",
              "    .dataframe tbody tr th {\n",
              "        vertical-align: top;\n",
              "    }\n",
              "\n",
              "    .dataframe thead th {\n",
              "        text-align: right;\n",
              "    }\n",
              "</style>\n",
              "<table border=\"1\" class=\"dataframe\">\n",
              "  <thead>\n",
              "    <tr style=\"text-align: right;\">\n",
              "      <th></th>\n",
              "      <th>Mjob</th>\n",
              "      <th>Fjob</th>\n",
              "    </tr>\n",
              "  </thead>\n",
              "  <tbody>\n",
              "    <tr>\n",
              "      <th>0</th>\n",
              "      <td>at_home</td>\n",
              "      <td>teacher</td>\n",
              "    </tr>\n",
              "    <tr>\n",
              "      <th>1</th>\n",
              "      <td>at_home</td>\n",
              "      <td>other</td>\n",
              "    </tr>\n",
              "    <tr>\n",
              "      <th>2</th>\n",
              "      <td>at_home</td>\n",
              "      <td>other</td>\n",
              "    </tr>\n",
              "    <tr>\n",
              "      <th>3</th>\n",
              "      <td>health</td>\n",
              "      <td>services</td>\n",
              "    </tr>\n",
              "    <tr>\n",
              "      <th>4</th>\n",
              "      <td>other</td>\n",
              "      <td>other</td>\n",
              "    </tr>\n",
              "  </tbody>\n",
              "</table>\n",
              "</div>"
            ],
            "text/plain": [
              "      Mjob      Fjob\n",
              "0  at_home   teacher\n",
              "1  at_home     other\n",
              "2  at_home     other\n",
              "3   health  services\n",
              "4    other     other"
            ]
          },
          "metadata": {
            "tags": []
          },
          "execution_count": 8
        }
      ]
    },
    {
      "cell_type": "code",
      "metadata": {
        "colab": {
          "base_uri": "https://localhost:8080/"
        },
        "id": "_RztxjXEhumt",
        "outputId": "d343ff60-e2b9-4563-9fe5-14b62ef09035"
      },
      "source": [
        "dfnom = dfnom.replace('at_home','home')\n",
        "dfnom.astype('category')\n",
        "dfnom.info()"
      ],
      "execution_count": 9,
      "outputs": [
        {
          "output_type": "stream",
          "text": [
            "<class 'pandas.core.frame.DataFrame'>\n",
            "RangeIndex: 395 entries, 0 to 394\n",
            "Data columns (total 2 columns):\n",
            " #   Column  Non-Null Count  Dtype \n",
            "---  ------  --------------  ----- \n",
            " 0   Mjob    395 non-null    object\n",
            " 1   Fjob    395 non-null    object\n",
            "dtypes: object(2)\n",
            "memory usage: 6.3+ KB\n"
          ],
          "name": "stdout"
        }
      ]
    },
    {
      "cell_type": "code",
      "metadata": {
        "id": "8LAzBCXdhwHm"
      },
      "source": [
        "from sklearn.preprocessing import LabelEncoder\n",
        "lb = LabelEncoder()"
      ],
      "execution_count": 10,
      "outputs": []
    },
    {
      "cell_type": "code",
      "metadata": {
        "id": "hGHRijQ3hx74"
      },
      "source": [
        "dfnom['Mjob'] = lb.fit_transform(dfnom['Mjob'])\n",
        "dfnom['Fjob'] = lb.fit_transform(dfnom['Fjob'])\n",
        "dfnom = np.array(dfnom)\n"
      ],
      "execution_count": 13,
      "outputs": []
    },
    {
      "cell_type": "code",
      "metadata": {
        "id": "13_As2cvhzhN"
      },
      "source": [
        "dfnom=dfnom[dfnom!=0]"
      ],
      "execution_count": 14,
      "outputs": []
    },
    {
      "cell_type": "code",
      "metadata": {
        "id": "3Rg8r5JYh08E"
      },
      "source": [
        "from scipy.stats import chi2_contingency\n",
        "stat, p, dof, expected = chi2_contingency(dfnom)"
      ],
      "execution_count": 15,
      "outputs": []
    },
    {
      "cell_type": "code",
      "metadata": {
        "colab": {
          "base_uri": "https://localhost:8080/"
        },
        "id": "f7YJnJadh6H9",
        "outputId": "9bf39dc4-6b29-46e0-c018-83aece5ec155"
      },
      "source": [
        "stat"
      ],
      "execution_count": 16,
      "outputs": [
        {
          "output_type": "execute_result",
          "data": {
            "text/plain": [
              "0.0"
            ]
          },
          "metadata": {
            "tags": []
          },
          "execution_count": 16
        }
      ]
    },
    {
      "cell_type": "code",
      "metadata": {
        "colab": {
          "base_uri": "https://localhost:8080/"
        },
        "id": "AkSE_wHJh7dC",
        "outputId": "a44648fe-1ae2-4e2c-b529-2e4f3aaad570"
      },
      "source": [
        "p"
      ],
      "execution_count": 17,
      "outputs": [
        {
          "output_type": "execute_result",
          "data": {
            "text/plain": [
              "1.0"
            ]
          },
          "metadata": {
            "tags": []
          },
          "execution_count": 17
        }
      ]
    },
    {
      "cell_type": "code",
      "metadata": {
        "colab": {
          "base_uri": "https://localhost:8080/"
        },
        "id": "Oses7Qe4h8sz",
        "outputId": "b3509169-65f3-4ab9-c501-c55f3e0cf8bc"
      },
      "source": [
        "dof"
      ],
      "execution_count": 18,
      "outputs": [
        {
          "output_type": "execute_result",
          "data": {
            "text/plain": [
              "0"
            ]
          },
          "metadata": {
            "tags": []
          },
          "execution_count": 18
        }
      ]
    },
    {
      "cell_type": "code",
      "metadata": {
        "colab": {
          "base_uri": "https://localhost:8080/"
        },
        "id": "rtKiJ4LOh-Cw",
        "outputId": "f67fd319-2d71-4edf-eade-347537576b65"
      },
      "source": [
        "expected"
      ],
      "execution_count": 19,
      "outputs": [
        {
          "output_type": "execute_result",
          "data": {
            "text/plain": [
              "array([1., 4., 1., 2., 1., 2., 3., 2., 2., 3., 2., 2., 2., 2., 4., 3., 2.,\n",
              "       2., 2., 4., 3., 2., 3., 4., 2., 2., 2., 2., 3., 3., 2., 2., 3., 3.,\n",
              "       2., 4., 2., 4., 2., 2., 2., 3., 3., 3., 2., 2., 3., 3., 2., 4., 4.,\n",
              "       3., 3., 3., 4., 1., 2., 2., 2., 2., 2., 2., 4., 3., 2., 4., 3., 1.,\n",
              "       2., 2., 2., 4., 2., 3., 4., 3., 3., 2., 1., 2., 2., 2., 3., 3., 4.,\n",
              "       2., 3., 4., 3., 3., 2., 3., 3., 2., 2., 2., 2., 3., 3., 4., 2., 1.,\n",
              "       3., 2., 4., 3., 3., 2., 3., 4., 3., 3., 4., 3., 2., 3., 3., 2., 3.,\n",
              "       2., 2., 2., 2., 2., 2., 2., 2., 2., 2., 2., 3., 4., 2., 4., 2., 2.,\n",
              "       2., 2., 2., 1., 2., 2., 3., 2., 2., 3., 2., 3., 3., 2., 2., 3., 3.,\n",
              "       1., 2., 2., 2., 3., 2., 4., 2., 2., 3., 2., 2., 2., 4., 3., 3., 1.,\n",
              "       2., 3., 2., 2., 2., 2., 2., 2., 1., 3., 3., 3., 4., 3., 2., 3., 2.,\n",
              "       3., 2., 2., 2., 2., 3., 2., 2., 2., 4., 4., 3., 2., 1., 2., 4., 2.,\n",
              "       3., 4., 4., 2., 4., 2., 3., 2., 2., 2., 2., 1., 3., 3., 3., 2., 2.,\n",
              "       2., 2., 3., 3., 2., 2., 1., 2., 3., 2., 4., 4., 3., 4., 1., 2., 2.,\n",
              "       2., 3., 2., 1., 4., 3., 1., 1., 2., 2., 2., 3., 2., 4., 4., 4., 3.,\n",
              "       3., 3., 4., 3., 1., 1., 2., 2., 2., 3., 3., 1., 2., 4., 4., 3., 2.,\n",
              "       2., 2., 1., 2., 3., 3., 3., 1., 2., 4., 1., 3., 2., 2., 1., 2., 1.,\n",
              "       2., 2., 3., 1., 2., 2., 2., 2., 2., 1., 3., 2., 3., 3., 3., 2., 2.,\n",
              "       3., 2., 2., 2., 2., 2., 2., 4., 2., 1., 3., 2., 2., 4., 2., 3., 2.,\n",
              "       2., 2., 4., 3., 2., 2., 4., 2., 3., 2., 3., 3., 2., 2., 2., 2., 3.,\n",
              "       3., 3., 3., 2., 2., 2., 1., 2., 3., 3., 1., 3., 1., 3., 3., 3., 2.,\n",
              "       2., 3., 3., 3., 4., 4., 2., 3., 4., 4., 4., 2., 2., 2., 2., 2., 2.,\n",
              "       2., 3., 3., 1., 3., 3., 2., 4., 2., 1., 2., 4., 2., 2., 2., 3., 2.,\n",
              "       2., 2., 3., 2., 3., 2., 2., 2., 2., 2., 3., 1., 2., 1., 1., 1., 3.,\n",
              "       1., 2., 3., 4., 2., 2., 4., 3., 2., 2., 2., 2., 3., 3., 1., 2., 2.,\n",
              "       2., 2., 2., 2., 4., 4., 2., 2., 2., 1., 2., 2., 2., 2., 2., 1., 3.,\n",
              "       2., 3., 2., 4., 2., 4., 2., 3., 3., 2., 2., 2., 2., 2., 2., 3., 3.,\n",
              "       2., 3., 2., 2., 3., 2., 1., 2., 3., 3., 2., 2., 2., 2., 2., 4., 3.,\n",
              "       3., 1., 2., 2., 3., 3., 3., 2., 4., 2., 2., 2., 2., 2., 1., 3., 2.,\n",
              "       2., 3., 2., 4., 2., 2., 2., 2., 2., 3., 2., 3., 2., 2., 1., 1., 1.,\n",
              "       3., 2., 2., 3., 4., 3., 4., 3., 3., 2., 4., 3., 1., 2., 2., 2., 2.,\n",
              "       2., 2., 2., 1., 1., 3., 4., 3., 3., 4., 4., 4., 2., 3., 3., 1., 3.,\n",
              "       2., 3., 2., 2., 2., 2., 2., 2., 2., 4., 4., 2., 2., 4., 2., 2., 2.,\n",
              "       2., 3., 1., 3., 2., 4., 3., 2., 3., 1., 2., 3., 3., 1., 2., 2., 3.,\n",
              "       3., 2., 1., 2., 2., 3., 2., 2., 2., 1., 3., 4., 2., 3., 3., 2., 2.,\n",
              "       3., 3., 3., 3., 1., 1., 2., 2., 2., 3., 3., 2., 4., 3., 4., 4., 2.,\n",
              "       2., 1., 2., 3., 3., 2., 2., 1., 2., 3., 2., 3., 1., 2., 2., 3., 3.,\n",
              "       2., 2., 3., 3., 4., 3., 3., 2., 1., 1., 1., 2., 2., 3., 4., 3., 4.,\n",
              "       2., 2., 2., 2., 2., 3., 2., 1., 3., 2., 2., 3., 2., 3., 3., 4., 3.,\n",
              "       3., 2., 2., 3., 1., 3., 1., 2., 1., 2., 3., 3., 1., 1., 2., 3., 1.,\n",
              "       2., 4., 3., 2., 3., 1., 3., 2., 4., 3., 3., 1., 3., 2., 1., 2., 2.,\n",
              "       2., 2., 2., 2., 2., 4., 3., 2., 2., 1., 2., 4., 4., 2., 2., 2., 3.,\n",
              "       2., 3., 2., 2., 1., 2., 4., 1., 3., 2., 4., 3., 2., 2., 3., 3., 3.,\n",
              "       3., 2., 2., 3., 2., 2., 1.])"
            ]
          },
          "metadata": {
            "tags": []
          },
          "execution_count": 19
        }
      ]
    },
    {
      "cell_type": "code",
      "metadata": {
        "colab": {
          "base_uri": "https://localhost:8080/"
        },
        "id": "QmUuoLmHh_ai",
        "outputId": "c0022857-bad8-450f-dfde-660961010e67"
      },
      "source": [
        "expected.shape"
      ],
      "execution_count": 20,
      "outputs": [
        {
          "output_type": "execute_result",
          "data": {
            "text/plain": [
              "(738,)"
            ]
          },
          "metadata": {
            "tags": []
          },
          "execution_count": 20
        }
      ]
    },
    {
      "cell_type": "code",
      "metadata": {
        "colab": {
          "base_uri": "https://localhost:8080/",
          "height": 224
        },
        "id": "wHeL_H0ViBQc",
        "outputId": "56a43976-e973-4000-ed43-0068e5333794"
      },
      "source": [
        "data.head()"
      ],
      "execution_count": 21,
      "outputs": [
        {
          "output_type": "execute_result",
          "data": {
            "text/html": [
              "<div>\n",
              "<style scoped>\n",
              "    .dataframe tbody tr th:only-of-type {\n",
              "        vertical-align: middle;\n",
              "    }\n",
              "\n",
              "    .dataframe tbody tr th {\n",
              "        vertical-align: top;\n",
              "    }\n",
              "\n",
              "    .dataframe thead th {\n",
              "        text-align: right;\n",
              "    }\n",
              "</style>\n",
              "<table border=\"1\" class=\"dataframe\">\n",
              "  <thead>\n",
              "    <tr style=\"text-align: right;\">\n",
              "      <th></th>\n",
              "      <th>school</th>\n",
              "      <th>sex</th>\n",
              "      <th>age</th>\n",
              "      <th>address</th>\n",
              "      <th>famsize</th>\n",
              "      <th>Pstatus</th>\n",
              "      <th>Medu</th>\n",
              "      <th>Fedu</th>\n",
              "      <th>Mjob</th>\n",
              "      <th>Fjob</th>\n",
              "      <th>reason</th>\n",
              "      <th>guardian</th>\n",
              "      <th>traveltime</th>\n",
              "      <th>studytime</th>\n",
              "      <th>failures</th>\n",
              "      <th>schoolsup</th>\n",
              "      <th>famsup</th>\n",
              "      <th>paid</th>\n",
              "      <th>activities</th>\n",
              "      <th>nursery</th>\n",
              "      <th>higher</th>\n",
              "      <th>internet</th>\n",
              "      <th>romantic</th>\n",
              "      <th>famrel</th>\n",
              "      <th>freetime</th>\n",
              "      <th>goout</th>\n",
              "      <th>Dalc</th>\n",
              "      <th>Walc</th>\n",
              "      <th>health</th>\n",
              "      <th>absences</th>\n",
              "      <th>G1</th>\n",
              "      <th>G2</th>\n",
              "      <th>G3</th>\n",
              "    </tr>\n",
              "  </thead>\n",
              "  <tbody>\n",
              "    <tr>\n",
              "      <th>0</th>\n",
              "      <td>GP</td>\n",
              "      <td>F</td>\n",
              "      <td>18</td>\n",
              "      <td>U</td>\n",
              "      <td>GT3</td>\n",
              "      <td>A</td>\n",
              "      <td>4</td>\n",
              "      <td>4</td>\n",
              "      <td>at_home</td>\n",
              "      <td>teacher</td>\n",
              "      <td>course</td>\n",
              "      <td>mother</td>\n",
              "      <td>2</td>\n",
              "      <td>2</td>\n",
              "      <td>0</td>\n",
              "      <td>yes</td>\n",
              "      <td>no</td>\n",
              "      <td>no</td>\n",
              "      <td>no</td>\n",
              "      <td>yes</td>\n",
              "      <td>yes</td>\n",
              "      <td>no</td>\n",
              "      <td>no</td>\n",
              "      <td>4</td>\n",
              "      <td>3</td>\n",
              "      <td>4</td>\n",
              "      <td>1</td>\n",
              "      <td>1</td>\n",
              "      <td>3</td>\n",
              "      <td>6</td>\n",
              "      <td>5</td>\n",
              "      <td>6</td>\n",
              "      <td>6</td>\n",
              "    </tr>\n",
              "    <tr>\n",
              "      <th>1</th>\n",
              "      <td>GP</td>\n",
              "      <td>F</td>\n",
              "      <td>17</td>\n",
              "      <td>U</td>\n",
              "      <td>GT3</td>\n",
              "      <td>T</td>\n",
              "      <td>1</td>\n",
              "      <td>1</td>\n",
              "      <td>at_home</td>\n",
              "      <td>other</td>\n",
              "      <td>course</td>\n",
              "      <td>father</td>\n",
              "      <td>1</td>\n",
              "      <td>2</td>\n",
              "      <td>0</td>\n",
              "      <td>no</td>\n",
              "      <td>yes</td>\n",
              "      <td>no</td>\n",
              "      <td>no</td>\n",
              "      <td>no</td>\n",
              "      <td>yes</td>\n",
              "      <td>yes</td>\n",
              "      <td>no</td>\n",
              "      <td>5</td>\n",
              "      <td>3</td>\n",
              "      <td>3</td>\n",
              "      <td>1</td>\n",
              "      <td>1</td>\n",
              "      <td>3</td>\n",
              "      <td>4</td>\n",
              "      <td>5</td>\n",
              "      <td>5</td>\n",
              "      <td>6</td>\n",
              "    </tr>\n",
              "    <tr>\n",
              "      <th>2</th>\n",
              "      <td>GP</td>\n",
              "      <td>F</td>\n",
              "      <td>15</td>\n",
              "      <td>U</td>\n",
              "      <td>LE3</td>\n",
              "      <td>T</td>\n",
              "      <td>1</td>\n",
              "      <td>1</td>\n",
              "      <td>at_home</td>\n",
              "      <td>other</td>\n",
              "      <td>other</td>\n",
              "      <td>mother</td>\n",
              "      <td>1</td>\n",
              "      <td>2</td>\n",
              "      <td>3</td>\n",
              "      <td>yes</td>\n",
              "      <td>no</td>\n",
              "      <td>yes</td>\n",
              "      <td>no</td>\n",
              "      <td>yes</td>\n",
              "      <td>yes</td>\n",
              "      <td>yes</td>\n",
              "      <td>no</td>\n",
              "      <td>4</td>\n",
              "      <td>3</td>\n",
              "      <td>2</td>\n",
              "      <td>2</td>\n",
              "      <td>3</td>\n",
              "      <td>3</td>\n",
              "      <td>10</td>\n",
              "      <td>7</td>\n",
              "      <td>8</td>\n",
              "      <td>10</td>\n",
              "    </tr>\n",
              "    <tr>\n",
              "      <th>3</th>\n",
              "      <td>GP</td>\n",
              "      <td>F</td>\n",
              "      <td>15</td>\n",
              "      <td>U</td>\n",
              "      <td>GT3</td>\n",
              "      <td>T</td>\n",
              "      <td>4</td>\n",
              "      <td>2</td>\n",
              "      <td>health</td>\n",
              "      <td>services</td>\n",
              "      <td>home</td>\n",
              "      <td>mother</td>\n",
              "      <td>1</td>\n",
              "      <td>3</td>\n",
              "      <td>0</td>\n",
              "      <td>no</td>\n",
              "      <td>yes</td>\n",
              "      <td>yes</td>\n",
              "      <td>yes</td>\n",
              "      <td>yes</td>\n",
              "      <td>yes</td>\n",
              "      <td>yes</td>\n",
              "      <td>yes</td>\n",
              "      <td>3</td>\n",
              "      <td>2</td>\n",
              "      <td>2</td>\n",
              "      <td>1</td>\n",
              "      <td>1</td>\n",
              "      <td>5</td>\n",
              "      <td>2</td>\n",
              "      <td>15</td>\n",
              "      <td>14</td>\n",
              "      <td>15</td>\n",
              "    </tr>\n",
              "    <tr>\n",
              "      <th>4</th>\n",
              "      <td>GP</td>\n",
              "      <td>F</td>\n",
              "      <td>16</td>\n",
              "      <td>U</td>\n",
              "      <td>GT3</td>\n",
              "      <td>T</td>\n",
              "      <td>3</td>\n",
              "      <td>3</td>\n",
              "      <td>other</td>\n",
              "      <td>other</td>\n",
              "      <td>home</td>\n",
              "      <td>father</td>\n",
              "      <td>1</td>\n",
              "      <td>2</td>\n",
              "      <td>0</td>\n",
              "      <td>no</td>\n",
              "      <td>yes</td>\n",
              "      <td>yes</td>\n",
              "      <td>no</td>\n",
              "      <td>yes</td>\n",
              "      <td>yes</td>\n",
              "      <td>no</td>\n",
              "      <td>no</td>\n",
              "      <td>4</td>\n",
              "      <td>3</td>\n",
              "      <td>2</td>\n",
              "      <td>1</td>\n",
              "      <td>2</td>\n",
              "      <td>5</td>\n",
              "      <td>4</td>\n",
              "      <td>6</td>\n",
              "      <td>10</td>\n",
              "      <td>10</td>\n",
              "    </tr>\n",
              "  </tbody>\n",
              "</table>\n",
              "</div>"
            ],
            "text/plain": [
              "  school sex  age address famsize Pstatus  ...  Walc  health absences  G1  G2  G3\n",
              "0     GP   F   18       U     GT3       A  ...     1       3        6   5   6   6\n",
              "1     GP   F   17       U     GT3       T  ...     1       3        4   5   5   6\n",
              "2     GP   F   15       U     LE3       T  ...     3       3       10   7   8  10\n",
              "3     GP   F   15       U     GT3       T  ...     1       5        2  15  14  15\n",
              "4     GP   F   16       U     GT3       T  ...     2       5        4   6  10  10\n",
              "\n",
              "[5 rows x 33 columns]"
            ]
          },
          "metadata": {
            "tags": []
          },
          "execution_count": 21
        }
      ]
    },
    {
      "cell_type": "code",
      "metadata": {
        "colab": {
          "base_uri": "https://localhost:8080/"
        },
        "id": "QyO6uRy8iD1c",
        "outputId": "469ad763-572d-48eb-aca0-d4b231753ee2"
      },
      "source": [
        "age=np.array(data['age'])\n",
        "print('MAX AGE',max(age))\n",
        "print('MIN AGE',min(age))\n",
        "age=age.reshape(395,1)"
      ],
      "execution_count": 22,
      "outputs": [
        {
          "output_type": "stream",
          "text": [
            "MAX AGE 22\n",
            "MIN AGE 15\n"
          ],
          "name": "stdout"
        }
      ]
    },
    {
      "cell_type": "code",
      "metadata": {
        "colab": {
          "base_uri": "https://localhost:8080/"
        },
        "id": "1t8ZllXtiFox",
        "outputId": "d74fe10f-e25f-496e-a864-01cd9c1bd4b1"
      },
      "source": [
        "from scipy import stats\n",
        "zscore = np.array(stats.zscore(age))\n",
        "zscore = zscore[0:394]\n",
        "zscore = zscore.reshape(2,197)\n",
        "zscore"
      ],
      "execution_count": 23,
      "outputs": [
        {
          "output_type": "execute_result",
          "data": {
            "text/plain": [
              "array([[ 1.02304645,  0.23837976, -1.33095364, -1.33095364, -0.54628694,\n",
              "        -0.54628694, -0.54628694,  0.23837976, -1.33095364, -1.33095364,\n",
              "        -1.33095364, -1.33095364, -1.33095364, -1.33095364, -1.33095364,\n",
              "        -0.54628694, -0.54628694, -0.54628694,  0.23837976, -0.54628694,\n",
              "        -1.33095364, -1.33095364, -0.54628694, -0.54628694, -1.33095364,\n",
              "        -0.54628694, -1.33095364, -1.33095364, -0.54628694, -0.54628694,\n",
              "        -1.33095364, -1.33095364, -1.33095364, -1.33095364, -0.54628694,\n",
              "        -1.33095364, -1.33095364, -0.54628694, -1.33095364, -1.33095364,\n",
              "        -0.54628694, -1.33095364, -1.33095364, -1.33095364, -0.54628694,\n",
              "        -1.33095364, -0.54628694, -0.54628694, -1.33095364, -1.33095364,\n",
              "        -0.54628694, -1.33095364, -1.33095364, -1.33095364, -1.33095364,\n",
              "        -0.54628694, -1.33095364, -1.33095364, -1.33095364, -0.54628694,\n",
              "        -0.54628694, -0.54628694, -0.54628694, -0.54628694, -1.33095364,\n",
              "        -0.54628694, -1.33095364, -0.54628694, -1.33095364, -1.33095364,\n",
              "        -0.54628694, -1.33095364, -1.33095364, -0.54628694, -0.54628694,\n",
              "        -1.33095364, -1.33095364, -0.54628694,  0.23837976, -0.54628694,\n",
              "        -1.33095364, -1.33095364, -1.33095364, -1.33095364, -1.33095364,\n",
              "        -1.33095364, -0.54628694, -1.33095364, -0.54628694, -0.54628694,\n",
              "        -0.54628694, -1.33095364, -0.54628694, -0.54628694, -1.33095364,\n",
              "        -1.33095364, -0.54628694, -0.54628694, -0.54628694, -0.54628694,\n",
              "        -0.54628694, -0.54628694, -1.33095364, -1.33095364, -1.33095364,\n",
              "        -1.33095364, -1.33095364, -0.54628694, -1.33095364, -0.54628694,\n",
              "        -1.33095364, -0.54628694, -0.54628694, -1.33095364, -1.33095364,\n",
              "        -0.54628694, -1.33095364, -0.54628694,  0.23837976, -1.33095364,\n",
              "        -1.33095364, -1.33095364, -0.54628694, -0.54628694, -0.54628694,\n",
              "        -1.33095364, -1.33095364,  1.80771315,  1.02304645, -0.54628694,\n",
              "        -1.33095364, -1.33095364,  0.23837976, -0.54628694, -1.33095364,\n",
              "        -1.33095364,  0.23837976, -0.54628694, -0.54628694, -1.33095364,\n",
              "        -1.33095364, -0.54628694, -1.33095364, -0.54628694,  0.23837976,\n",
              "        -1.33095364, -1.33095364, -1.33095364, -0.54628694, -1.33095364,\n",
              "         1.02304645, -0.54628694, -1.33095364,  1.80771315,  0.23837976,\n",
              "        -1.33095364,  0.23837976,  1.02304645, -0.54628694, -0.54628694,\n",
              "         0.23837976, -1.33095364, -0.54628694,  0.23837976,  0.23837976,\n",
              "        -0.54628694, -0.54628694, -0.54628694, -0.54628694, -0.54628694,\n",
              "        -0.54628694, -0.54628694,  0.23837976, -0.54628694, -0.54628694,\n",
              "         0.23837976, -0.54628694,  0.23837976, -0.54628694,  0.23837976,\n",
              "        -0.54628694, -0.54628694,  0.23837976,  0.23837976, -0.54628694,\n",
              "         0.23837976, -0.54628694, -0.54628694,  0.23837976,  0.23837976,\n",
              "        -0.54628694,  0.23837976,  0.23837976, -0.54628694, -0.54628694,\n",
              "         0.23837976,  0.23837976],\n",
              "       [-0.54628694,  0.23837976, -0.54628694, -0.54628694, -0.54628694,\n",
              "         0.23837976,  0.23837976, -0.54628694,  0.23837976, -0.54628694,\n",
              "        -0.54628694, -0.54628694,  0.23837976,  1.80771315,  0.23837976,\n",
              "        -0.54628694,  1.02304645,  0.23837976,  0.23837976,  0.23837976,\n",
              "         1.02304645,  0.23837976,  0.23837976,  0.23837976,  0.23837976,\n",
              "        -0.54628694,  1.02304645, -0.54628694,  1.02304645,  0.23837976,\n",
              "         0.23837976,  1.02304645,  0.23837976,  0.23837976,  0.23837976,\n",
              "         0.23837976, -0.54628694, -0.54628694, -0.54628694,  0.23837976,\n",
              "        -0.54628694,  0.23837976,  1.02304645,  0.23837976,  0.23837976,\n",
              "        -0.54628694, -0.54628694,  1.02304645, -0.54628694,  0.23837976,\n",
              "         4.16171325,  1.02304645, -0.54628694,  1.02304645, -0.54628694,\n",
              "         1.02304645, -0.54628694,  0.23837976,  0.23837976,  0.23837976,\n",
              "         1.80771315,  1.02304645,  0.23837976,  1.02304645,  1.02304645,\n",
              "         1.02304645,  0.23837976,  1.02304645,  1.02304645,  0.23837976,\n",
              "         1.02304645,  1.02304645,  1.02304645,  1.80771315,  1.02304645,\n",
              "         1.02304645,  0.23837976,  0.23837976,  0.23837976,  1.02304645,\n",
              "         1.02304645,  1.02304645,  1.02304645,  0.23837976,  0.23837976,\n",
              "         1.02304645,  1.02304645,  0.23837976,  0.23837976,  1.02304645,\n",
              "         0.23837976,  1.02304645,  1.02304645,  1.02304645,  0.23837976,\n",
              "         1.02304645,  0.23837976,  1.02304645,  0.23837976,  1.80771315,\n",
              "         1.02304645,  1.02304645,  1.02304645,  1.02304645,  0.23837976,\n",
              "         0.23837976,  0.23837976,  1.80771315,  1.02304645,  2.59237985,\n",
              "         1.80771315,  1.80771315,  1.80771315,  1.80771315,  1.80771315,\n",
              "         1.80771315,  1.80771315,  1.80771315,  1.80771315,  1.02304645,\n",
              "         1.02304645,  0.23837976,  1.02304645,  0.23837976,  0.23837976,\n",
              "         0.23837976,  0.23837976,  0.23837976,  1.02304645,  0.23837976,\n",
              "         0.23837976,  0.23837976,  0.23837976,  1.02304645,  0.23837976,\n",
              "         1.02304645,  1.02304645,  1.02304645,  0.23837976,  1.80771315,\n",
              "         0.23837976,  1.02304645,  0.23837976,  1.80771315,  1.02304645,\n",
              "         1.02304645,  0.23837976,  1.02304645,  1.02304645,  1.02304645,\n",
              "         1.02304645,  0.23837976,  1.02304645,  1.80771315,  0.23837976,\n",
              "         1.02304645,  1.80771315,  0.23837976,  1.02304645,  0.23837976,\n",
              "         0.23837976,  1.02304645,  1.02304645,  1.02304645,  1.02304645,\n",
              "         1.02304645,  0.23837976,  0.23837976,  1.02304645,  1.02304645,\n",
              "         0.23837976,  1.02304645,  1.02304645,  1.80771315,  1.02304645,\n",
              "         0.23837976,  0.23837976,  1.02304645,  1.02304645,  2.59237985,\n",
              "         1.02304645,  1.02304645,  0.23837976,  1.02304645,  1.02304645,\n",
              "         0.23837976,  1.80771315,  1.02304645,  1.02304645,  1.02304645,\n",
              "         1.80771315,  1.02304645,  1.02304645,  2.59237985,  0.23837976,\n",
              "         3.37704655,  1.02304645]])"
            ]
          },
          "metadata": {
            "tags": []
          },
          "execution_count": 23
        }
      ]
    },
    {
      "cell_type": "code",
      "metadata": {
        "colab": {
          "base_uri": "https://localhost:8080/"
        },
        "id": "HzXNepuMiHVJ",
        "outputId": "567f7882-2c26-4771-aa34-4da03cd73ade"
      },
      "source": [
        "result = []\n",
        "result.append(age/pow(10,2))\n",
        "result = np.array(result)\n",
        "result"
      ],
      "execution_count": 24,
      "outputs": [
        {
          "output_type": "execute_result",
          "data": {
            "text/plain": [
              "array([[[0.18],\n",
              "        [0.17],\n",
              "        [0.15],\n",
              "        [0.15],\n",
              "        [0.16],\n",
              "        [0.16],\n",
              "        [0.16],\n",
              "        [0.17],\n",
              "        [0.15],\n",
              "        [0.15],\n",
              "        [0.15],\n",
              "        [0.15],\n",
              "        [0.15],\n",
              "        [0.15],\n",
              "        [0.15],\n",
              "        [0.16],\n",
              "        [0.16],\n",
              "        [0.16],\n",
              "        [0.17],\n",
              "        [0.16],\n",
              "        [0.15],\n",
              "        [0.15],\n",
              "        [0.16],\n",
              "        [0.16],\n",
              "        [0.15],\n",
              "        [0.16],\n",
              "        [0.15],\n",
              "        [0.15],\n",
              "        [0.16],\n",
              "        [0.16],\n",
              "        [0.15],\n",
              "        [0.15],\n",
              "        [0.15],\n",
              "        [0.15],\n",
              "        [0.16],\n",
              "        [0.15],\n",
              "        [0.15],\n",
              "        [0.16],\n",
              "        [0.15],\n",
              "        [0.15],\n",
              "        [0.16],\n",
              "        [0.15],\n",
              "        [0.15],\n",
              "        [0.15],\n",
              "        [0.16],\n",
              "        [0.15],\n",
              "        [0.16],\n",
              "        [0.16],\n",
              "        [0.15],\n",
              "        [0.15],\n",
              "        [0.16],\n",
              "        [0.15],\n",
              "        [0.15],\n",
              "        [0.15],\n",
              "        [0.15],\n",
              "        [0.16],\n",
              "        [0.15],\n",
              "        [0.15],\n",
              "        [0.15],\n",
              "        [0.16],\n",
              "        [0.16],\n",
              "        [0.16],\n",
              "        [0.16],\n",
              "        [0.16],\n",
              "        [0.15],\n",
              "        [0.16],\n",
              "        [0.15],\n",
              "        [0.16],\n",
              "        [0.15],\n",
              "        [0.15],\n",
              "        [0.16],\n",
              "        [0.15],\n",
              "        [0.15],\n",
              "        [0.16],\n",
              "        [0.16],\n",
              "        [0.15],\n",
              "        [0.15],\n",
              "        [0.16],\n",
              "        [0.17],\n",
              "        [0.16],\n",
              "        [0.15],\n",
              "        [0.15],\n",
              "        [0.15],\n",
              "        [0.15],\n",
              "        [0.15],\n",
              "        [0.15],\n",
              "        [0.16],\n",
              "        [0.15],\n",
              "        [0.16],\n",
              "        [0.16],\n",
              "        [0.16],\n",
              "        [0.15],\n",
              "        [0.16],\n",
              "        [0.16],\n",
              "        [0.15],\n",
              "        [0.15],\n",
              "        [0.16],\n",
              "        [0.16],\n",
              "        [0.16],\n",
              "        [0.16],\n",
              "        [0.16],\n",
              "        [0.16],\n",
              "        [0.15],\n",
              "        [0.15],\n",
              "        [0.15],\n",
              "        [0.15],\n",
              "        [0.15],\n",
              "        [0.16],\n",
              "        [0.15],\n",
              "        [0.16],\n",
              "        [0.15],\n",
              "        [0.16],\n",
              "        [0.16],\n",
              "        [0.15],\n",
              "        [0.15],\n",
              "        [0.16],\n",
              "        [0.15],\n",
              "        [0.16],\n",
              "        [0.17],\n",
              "        [0.15],\n",
              "        [0.15],\n",
              "        [0.15],\n",
              "        [0.16],\n",
              "        [0.16],\n",
              "        [0.16],\n",
              "        [0.15],\n",
              "        [0.15],\n",
              "        [0.19],\n",
              "        [0.18],\n",
              "        [0.16],\n",
              "        [0.15],\n",
              "        [0.15],\n",
              "        [0.17],\n",
              "        [0.16],\n",
              "        [0.15],\n",
              "        [0.15],\n",
              "        [0.17],\n",
              "        [0.16],\n",
              "        [0.16],\n",
              "        [0.15],\n",
              "        [0.15],\n",
              "        [0.16],\n",
              "        [0.15],\n",
              "        [0.16],\n",
              "        [0.17],\n",
              "        [0.15],\n",
              "        [0.15],\n",
              "        [0.15],\n",
              "        [0.16],\n",
              "        [0.15],\n",
              "        [0.18],\n",
              "        [0.16],\n",
              "        [0.15],\n",
              "        [0.19],\n",
              "        [0.17],\n",
              "        [0.15],\n",
              "        [0.17],\n",
              "        [0.18],\n",
              "        [0.16],\n",
              "        [0.16],\n",
              "        [0.17],\n",
              "        [0.15],\n",
              "        [0.16],\n",
              "        [0.17],\n",
              "        [0.17],\n",
              "        [0.16],\n",
              "        [0.16],\n",
              "        [0.16],\n",
              "        [0.16],\n",
              "        [0.16],\n",
              "        [0.16],\n",
              "        [0.16],\n",
              "        [0.17],\n",
              "        [0.16],\n",
              "        [0.16],\n",
              "        [0.17],\n",
              "        [0.16],\n",
              "        [0.17],\n",
              "        [0.16],\n",
              "        [0.17],\n",
              "        [0.16],\n",
              "        [0.16],\n",
              "        [0.17],\n",
              "        [0.17],\n",
              "        [0.16],\n",
              "        [0.17],\n",
              "        [0.16],\n",
              "        [0.16],\n",
              "        [0.17],\n",
              "        [0.17],\n",
              "        [0.16],\n",
              "        [0.17],\n",
              "        [0.17],\n",
              "        [0.16],\n",
              "        [0.16],\n",
              "        [0.17],\n",
              "        [0.17],\n",
              "        [0.16],\n",
              "        [0.17],\n",
              "        [0.16],\n",
              "        [0.16],\n",
              "        [0.16],\n",
              "        [0.17],\n",
              "        [0.17],\n",
              "        [0.16],\n",
              "        [0.17],\n",
              "        [0.16],\n",
              "        [0.16],\n",
              "        [0.16],\n",
              "        [0.17],\n",
              "        [0.19],\n",
              "        [0.17],\n",
              "        [0.16],\n",
              "        [0.18],\n",
              "        [0.17],\n",
              "        [0.17],\n",
              "        [0.17],\n",
              "        [0.18],\n",
              "        [0.17],\n",
              "        [0.17],\n",
              "        [0.17],\n",
              "        [0.17],\n",
              "        [0.16],\n",
              "        [0.18],\n",
              "        [0.16],\n",
              "        [0.18],\n",
              "        [0.17],\n",
              "        [0.17],\n",
              "        [0.18],\n",
              "        [0.17],\n",
              "        [0.17],\n",
              "        [0.17],\n",
              "        [0.17],\n",
              "        [0.16],\n",
              "        [0.16],\n",
              "        [0.16],\n",
              "        [0.17],\n",
              "        [0.16],\n",
              "        [0.17],\n",
              "        [0.18],\n",
              "        [0.17],\n",
              "        [0.17],\n",
              "        [0.16],\n",
              "        [0.16],\n",
              "        [0.18],\n",
              "        [0.16],\n",
              "        [0.17],\n",
              "        [0.22],\n",
              "        [0.18],\n",
              "        [0.16],\n",
              "        [0.18],\n",
              "        [0.16],\n",
              "        [0.18],\n",
              "        [0.16],\n",
              "        [0.17],\n",
              "        [0.17],\n",
              "        [0.17],\n",
              "        [0.19],\n",
              "        [0.18],\n",
              "        [0.17],\n",
              "        [0.18],\n",
              "        [0.18],\n",
              "        [0.18],\n",
              "        [0.17],\n",
              "        [0.18],\n",
              "        [0.18],\n",
              "        [0.17],\n",
              "        [0.18],\n",
              "        [0.18],\n",
              "        [0.18],\n",
              "        [0.19],\n",
              "        [0.18],\n",
              "        [0.18],\n",
              "        [0.17],\n",
              "        [0.17],\n",
              "        [0.17],\n",
              "        [0.18],\n",
              "        [0.18],\n",
              "        [0.18],\n",
              "        [0.18],\n",
              "        [0.17],\n",
              "        [0.17],\n",
              "        [0.18],\n",
              "        [0.18],\n",
              "        [0.17],\n",
              "        [0.17],\n",
              "        [0.18],\n",
              "        [0.17],\n",
              "        [0.18],\n",
              "        [0.18],\n",
              "        [0.18],\n",
              "        [0.17],\n",
              "        [0.18],\n",
              "        [0.17],\n",
              "        [0.18],\n",
              "        [0.17],\n",
              "        [0.19],\n",
              "        [0.18],\n",
              "        [0.18],\n",
              "        [0.18],\n",
              "        [0.18],\n",
              "        [0.17],\n",
              "        [0.17],\n",
              "        [0.17],\n",
              "        [0.19],\n",
              "        [0.18],\n",
              "        [0.2 ],\n",
              "        [0.19],\n",
              "        [0.19],\n",
              "        [0.19],\n",
              "        [0.19],\n",
              "        [0.19],\n",
              "        [0.19],\n",
              "        [0.19],\n",
              "        [0.19],\n",
              "        [0.19],\n",
              "        [0.18],\n",
              "        [0.18],\n",
              "        [0.17],\n",
              "        [0.18],\n",
              "        [0.17],\n",
              "        [0.17],\n",
              "        [0.17],\n",
              "        [0.17],\n",
              "        [0.17],\n",
              "        [0.18],\n",
              "        [0.17],\n",
              "        [0.17],\n",
              "        [0.17],\n",
              "        [0.17],\n",
              "        [0.18],\n",
              "        [0.17],\n",
              "        [0.18],\n",
              "        [0.18],\n",
              "        [0.18],\n",
              "        [0.17],\n",
              "        [0.19],\n",
              "        [0.17],\n",
              "        [0.18],\n",
              "        [0.17],\n",
              "        [0.19],\n",
              "        [0.18],\n",
              "        [0.18],\n",
              "        [0.17],\n",
              "        [0.18],\n",
              "        [0.18],\n",
              "        [0.18],\n",
              "        [0.18],\n",
              "        [0.17],\n",
              "        [0.18],\n",
              "        [0.19],\n",
              "        [0.17],\n",
              "        [0.18],\n",
              "        [0.19],\n",
              "        [0.17],\n",
              "        [0.18],\n",
              "        [0.17],\n",
              "        [0.17],\n",
              "        [0.18],\n",
              "        [0.18],\n",
              "        [0.18],\n",
              "        [0.18],\n",
              "        [0.18],\n",
              "        [0.17],\n",
              "        [0.17],\n",
              "        [0.18],\n",
              "        [0.18],\n",
              "        [0.17],\n",
              "        [0.18],\n",
              "        [0.18],\n",
              "        [0.19],\n",
              "        [0.18],\n",
              "        [0.17],\n",
              "        [0.17],\n",
              "        [0.18],\n",
              "        [0.18],\n",
              "        [0.2 ],\n",
              "        [0.18],\n",
              "        [0.18],\n",
              "        [0.17],\n",
              "        [0.18],\n",
              "        [0.18],\n",
              "        [0.17],\n",
              "        [0.19],\n",
              "        [0.18],\n",
              "        [0.18],\n",
              "        [0.18],\n",
              "        [0.19],\n",
              "        [0.18],\n",
              "        [0.18],\n",
              "        [0.2 ],\n",
              "        [0.17],\n",
              "        [0.21],\n",
              "        [0.18],\n",
              "        [0.19]]])"
            ]
          },
          "metadata": {
            "tags": []
          },
          "execution_count": 24
        }
      ]
    },
    {
      "cell_type": "code",
      "metadata": {
        "id": "iUAX9BnriJZa"
      },
      "source": [
        ""
      ],
      "execution_count": null,
      "outputs": []
    }
  ]
}